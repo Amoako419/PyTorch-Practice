{
 "cells": [
  {
   "cell_type": "code",
   "execution_count": 1,
   "metadata": {},
   "outputs": [
    {
     "name": "stdout",
     "output_type": "stream",
     "text": [
      "First package price: <p class=\"price\">Only $999</p>\n"
     ]
    }
   ],
   "source": [
    "from bs4 import BeautifulSoup\n",
    "\n",
    "# Here is a sample HTML of a travel booking website\n",
    "html_content = '''\n",
    "<html>\n",
    "<body>\n",
    "<div class=\"package\">\n",
    "    <h1>Bali Adventure</h1>\n",
    "    <p>Explore beautiful beaches and temples.</p>\n",
    "    <p class=\"price\">Only $999</p>\n",
    "</div>\n",
    "<div class=\"package\">\n",
    "    <h1>Paris Getaway</h1>\n",
    "    <p>Visit the Eiffel Tower and museums.</p>\n",
    "    <p class=\"price\">Starting at $1399</p>\n",
    "</div>\n",
    "</body>\n",
    "</html>'''\n",
    "\n",
    "# Create a BeautifulSoup object\n",
    "soup = BeautifulSoup(html_content, 'html.parser')\n",
    "\n",
    "# TODO: Use BeautifulSoup to find the price of the first travel package.\n",
    "first_p = soup.find('div', class_='package').find('p')\n",
    "# TODO: Update the print statement to print the first travel package\n",
    "second_p = first_p.find_next_sibling()\n",
    "print(\"First package price:\", second_p)"
   ]
  },
  {
   "cell_type": "code",
   "execution_count": 2,
   "metadata": {},
   "outputs": [
    {
     "name": "stdout",
     "output_type": "stream",
     "text": [
      "First flight option: Flight 101 to Rome - $499\n",
      "First hotel option: Hotel Plaza - $99 per night\n"
     ]
    }
   ],
   "source": [
    "from bs4 import BeautifulSoup\n",
    "\n",
    "# Sample HTML content from a travel booking website\n",
    "html_content = \"\"\"\n",
    "<html>\n",
    "  <body>\n",
    "    <div class=\"flights\">\n",
    "      <h1>Flight Options</h1>\n",
    "      <ul>\n",
    "        <li class=\"flight\" id=\"flight1\">Flight 101 to Rome - $499</li>\n",
    "        <li class=\"flight\" id=\"flight2\">Flight 202 to Paris - $599</li>\n",
    "      </ul>\n",
    "    </div>\n",
    "    <div class=\"hotels\">\n",
    "      <h2>Hotel Listings</h2>\n",
    "      <ul>\n",
    "        <li class=\"hotel\" id=\"hotel1\">Hotel Plaza - $99 per night</li>\n",
    "        <li class=\"hotel\" id=\"hotel2\">Grand Hotel - $199 per night</li>\n",
    "      </ul>\n",
    "    </div>\n",
    "    <div class=\"reviews\">\n",
    "      <h3>Customer Reviews</h3>\n",
    "      <p id=\"review1\">Great experience on Flight 101!</p>\n",
    "      <p id=\"review2\">Highly recommend Hotel Plaza for the price.</p>\n",
    "    </div>\n",
    "  </body>\n",
    "</html>\n",
    "\"\"\"\n",
    "\n",
    "# Create a BeautifulSoup object\n",
    "soup = BeautifulSoup(html_content, 'html.parser')\n",
    "\n",
    "# Locate the flights div and then find the first flight option within it\n",
    "flights_div = soup.find('div', class_='flights')\n",
    "first_flight = flights_div.find('li', class_='flight').text\n",
    "print(f\"First flight option: {first_flight}\")\n",
    "\n",
    "# Navigate to the sibling element of the flights div, i.e., the hotels div, and find the first hotel option\n",
    "hotels_div = flights_div.find_next_sibling('div', class_='hotels')\n",
    "first_hotel = hotels_div.find('li', class_='hotel').text\n",
    "print(f\"First hotel option: {first_hotel}\")"
   ]
  },
  {
   "cell_type": "code",
   "execution_count": 3,
   "metadata": {},
   "outputs": [
    {
     "name": "stdout",
     "output_type": "stream",
     "text": [
      "Parent of <ul> element: div\n",
      "Eiffel Tower Tour\n",
      "Louvre Museum Pass\n",
      "Seine River Cruise\n"
     ]
    }
   ],
   "source": [
    "from bs4 import BeautifulSoup\n",
    "\n",
    "# Mock HTML snippet of a travel booking website\n",
    "html_content = \"\"\"\n",
    "<div id='destination'>\n",
    "    <h1>Paris</h1>\n",
    "    <ul class='offers'>\n",
    "        <li class='package'>Eiffel Tower Tour</li>\n",
    "        <li class='package'>Louvre Museum Pass</li>\n",
    "        <li class='package'>Seine River Cruise</li>\n",
    "    </ul>\n",
    "</div>\n",
    "\"\"\"\n",
    "\n",
    "soup = BeautifulSoup(html_content, 'html.parser')\n",
    "offers_list = soup.find('ul', class_='offers')\n",
    "print(\"Parent of <ul> element:\", offers_list.parent.name)\n",
    "\n",
    "# Iterate through children of offers_list and print text of each 'li' element\n",
    "for item in offers_list.children:\n",
    "  if isinstance(item, str):\n",
    "    continue  # Skip any string elements (text between tags)\n",
    "  if item.name == 'li':\n",
    "    print(item.text.strip())\n",
    "\n"
   ]
  },
  {
   "cell_type": "code",
   "execution_count": 4,
   "metadata": {},
   "outputs": [
    {
     "name": "stdout",
     "output_type": "stream",
     "text": [
      "Cost: $200\n",
      "div\n"
     ]
    }
   ],
   "source": [
    "from bs4 import BeautifulSoup\n",
    "\n",
    "# Assume this is the HTML from a section of a travel booking website\n",
    "html_content = '''\n",
    "<html>\n",
    "  <body>\n",
    "    <div class=\"destination\">\n",
    "      <h2 class=\"name\">Sunny Beach</h2>\n",
    "      <p class=\"description\">A beautiful beach, perfect for family vacations.</p>\n",
    "      <p class=\"price\">Cost: $200</p>\n",
    "    </div>\n",
    "  </body>\n",
    "</html>'''\n",
    "\n",
    "# Create a BeautifulSoup object\n",
    "soup = BeautifulSoup(html_content, 'html.parser')\n",
    "\n",
    "# Find the 'p' tag with class 'price'\n",
    "price_tag = soup.find('p', class_='price')\n",
    "\n",
    "# Print the text content of the found 'p' tag\n",
    "print(price_tag.text)  # Output: Cost: $200\n",
    "\n",
    "# Print the parent tag of the p tag\n",
    "print(price_tag.parent.name)  # Output: div\n"
   ]
  },
  {
   "cell_type": "code",
   "execution_count": 1,
   "metadata": {},
   "outputs": [
    {
     "name": "stdout",
     "output_type": "stream",
     "text": [
      "Travel Agency Heading: Welcome to the Amazing Travel Agency!\n"
     ]
    }
   ],
   "source": [
    "from bs4 import BeautifulSoup\n",
    "\n",
    "# Simplified HTML content from a travel agency website\n",
    "html_content = '<div><h1>Welcome to the Amazing Travel Agency!</h1><p>Plan your next adventure with us.</p></div>'\n",
    "soup = BeautifulSoup(html_content, 'html.parser')\n",
    "\n",
    "# Find the heading (h1) of the Travel Agency website\n",
    "heading = soup.find('h1').text\n",
    "print(f\"Travel Agency Heading: {heading}\")"
   ]
  },
  {
   "cell_type": "code",
   "execution_count": 2,
   "metadata": {},
   "outputs": [
    {
     "name": "stdout",
     "output_type": "stream",
     "text": [
      "Agency Name: Explore the world with us.\n"
     ]
    }
   ],
   "source": [
    "from bs4 import BeautifulSoup\n",
    "\n",
    "# Simulate an HTML content from a Travel Agency website\n",
    "html_content = '<div><h1>Welcome to the Best Travel Agency!</h1><p>Explore the world with us.</p></div>'\n",
    "soup = BeautifulSoup(html_content, 'html.parser')\n",
    "\n",
    "# TODO: Print the introductory message found in the first paragraph `<p>` tag\n",
    "agency_name = soup.find('p').text\n",
    "\n",
    "# TODO: Remember to update the print message to 'Intro Message:' \n",
    "print(f\"Agency Name: {agency_name}\") "
   ]
  },
  {
   "cell_type": "code",
   "execution_count": null,
   "metadata": {},
   "outputs": [],
   "source": [
    "import requests\n",
    "url = 'http://quotes.toscrape.com'\n",
    "response = requests.get(url)\n",
    "if response.ok:\n",
    "    print(response.text[:500])"
   ]
  },
  {
   "cell_type": "markdown",
   "metadata": {},
   "source": [
    "#CSS selectors\n"
   ]
  },
  {
   "cell_type": "code",
   "execution_count": 1,
   "metadata": {},
   "outputs": [
    {
     "name": "stdout",
     "output_type": "stream",
     "text": [
      "Smartphone\n",
      "Laptop\n"
     ]
    }
   ],
   "source": [
    "from bs4 import BeautifulSoup\n",
    "\n",
    "# HTML snippet for an online shopping site with various product categories\n",
    "html_content = \"<div class='category-listing'><div class='electronics'><div class='product'>Smartphone</div><div class='product'>Laptop</div></div><div class='books'><div class='product'>Novel</div><div class='product'>Comics</div></div></div>\"\n",
    "soup = BeautifulSoup(html_content, 'html.parser')\n",
    "\n",
    "# Using CSS selector to find all product elements within the 'electronics' category\n",
    "electronics_products = soup.select(\".category-listing > .electronics > .product\")\n",
    "for product in electronics_products:\n",
    "    print(product.text)"
   ]
  },
  {
   "cell_type": "code",
   "execution_count": 2,
   "metadata": {},
   "outputs": [
    {
     "name": "stdout",
     "output_type": "stream",
     "text": [
      "Laptop\n",
      "Phone\n",
      "Tablet\n"
     ]
    }
   ],
   "source": [
    "from bs4 import BeautifulSoup\n",
    "\n",
    "# Simulated HTML content of an online shopping site's inventory\n",
    "html_inventory = '''\n",
    "<div id=\"inventory\">\n",
    "  <div class=\"product\"><span class=\"name\">Laptop</span> - <span class=\"price\">$999</span></div>\n",
    "  <div class=\"product\"><span class=\"name\">Phone</span> - <span class=\"price\">$499</span></div>\n",
    "  <div class=\"product\"><span class=\"name\">Tablet</span> - <span class=\"price\">$299</span></div>\n",
    "</div>\n",
    "'''\n",
    "soup = BeautifulSoup(html_inventory, 'html.parser')\n",
    "\n",
    "# Select the price for each product\n",
    "prices = soup.select('.product > .name')\n",
    "for price in prices:\n",
    "    print(price.text)"
   ]
  },
  {
   "cell_type": "code",
   "execution_count": 3,
   "metadata": {},
   "outputs": [
    {
     "name": "stdout",
     "output_type": "stream",
     "text": [
      "['Widget A', 'Widget B', 'Subproduct C - 1']\n"
     ]
    }
   ],
   "source": [
    "from bs4 import BeautifulSoup\n",
    "\n",
    "html_content = '''\n",
    "<div class=\"inventory\">\n",
    "    <span class=\"product\">Widget A</span>\n",
    "    <span class=\"product\">Widget B</span>\n",
    "    <span class=\"tool\">\n",
    "        <span class=\"product\">Subproduct C - 1</span>\n",
    "    </span>\n",
    "</div>'''\n",
    "\n",
    "soup = BeautifulSoup(html_content, 'html.parser')\n",
    "products = [item.text for item in soup.select('.product')]\n",
    "print(products)"
   ]
  },
  {
   "cell_type": "code",
   "execution_count": 4,
   "metadata": {},
   "outputs": [
    {
     "name": "stdout",
     "output_type": "stream",
     "text": [
      "Item 1\n",
      "Item 2\n"
     ]
    }
   ],
   "source": [
    "from bs4 import BeautifulSoup\n",
    "\n",
    "# HTML content for an online shopping site products inventory\n",
    "html_content = '<div class=\"inventory\"><div class=\"item\"><p>Item 1</p></div><div class=\"item\"><p>Item 2</p></div></div>'\n",
    "\n",
    "# Create a BeautifulSoup object\n",
    "soup = BeautifulSoup(html_content, 'html.parser')\n",
    "\n",
    "# Find all paragraphs within divs classed as 'item' within divs classified as 'inventory'\n",
    "items = soup.select('.inventory .item p')\n",
    "\n",
    "# Print the text content of each item\n",
    "for item in items:\n",
    "    print(item.text)\n"
   ]
  },
  {
   "cell_type": "code",
   "execution_count": 1,
   "metadata": {},
   "outputs": [
    {
     "name": "stdout",
     "output_type": "stream",
     "text": [
      "Href extracted: http://quotes.toscrape.com\n"
     ]
    }
   ],
   "source": [
    "from bs4 import BeautifulSoup\n",
    "\n",
    "html_content = '<a href=\"http://quotes.toscrape.com\" id=\"quote_link\">Inspiring Quotes</a>'\n",
    "soup = BeautifulSoup(html_content, 'html.parser')\n",
    "\n",
    "# Extracting href attribute from the a tag\n",
    "quote_link = soup.find('a')\n",
    "href_value = quote_link['href']\n",
    "print(f\"Href extracted: {href_value}\")"
   ]
  },
  {
   "cell_type": "code",
   "execution_count": 2,
   "metadata": {},
   "outputs": [
    {
     "name": "stdout",
     "output_type": "stream",
     "text": [
      "Second link ID: second\n"
     ]
    }
   ],
   "source": [
    "from bs4 import BeautifulSoup\n",
    "\n",
    "# Simulated HTML content\n",
    "html_content = '<ul><li><a href=\"http://first-example.com\" id=\"first\">First example</a></li><li><a href=\"http://second-example.com\" id=\"second\">Second example</a></li></ul>'\n",
    "soup = BeautifulSoup(html_content, 'html.parser')\n",
    "\n",
    "# Find all anchor tags\n",
    "all_links = soup.find_all('a')\n",
    "\n",
    "# Extract the id attribute from the second anchor tag\n",
    "second_link_id = all_links[1]['id']\n",
    "print(f\"Second link ID: {second_link_id}\")"
   ]
  },
  {
   "cell_type": "code",
   "execution_count": 3,
   "metadata": {},
   "outputs": [
    {
     "name": "stdout",
     "output_type": "stream",
     "text": [
      "Link extracted : https://code.org\n"
     ]
    }
   ],
   "source": [
    "from bs4 import BeautifulSoup\n",
    "\n",
    "# A sample HTML content containing an anchor with the 'href' attribute\n",
    "html_content = '<a href=\"https://code.org\" id=\"educational_link\">Learn to Code!</a>'\n",
    "\n",
    "# TODO: Create a 'soup' object using BeautifulSoup, passing 'html_content' and 'html.parser' as arguments\n",
    "soup = BeautifulSoup(html_content,'html.parser')\n",
    "# TODO: Find the anchor ('a') tag in 'soup' and store it in a variable 'anchor_tag'\n",
    "anchor_tag = soup.find('a')\n",
    "# TODO: Extract the 'href' attribute from 'anchor_tag' and print it\n",
    "href = anchor_tag['href']\n",
    "print(f\"Link extracted : {href}\")"
   ]
  },
  {
   "cell_type": "code",
   "execution_count": 3,
   "metadata": {},
   "outputs": [
    {
     "name": "stdout",
     "output_type": "stream",
     "text": [
      "“The world as we have created it is a process of our thinking. It cannot be changed without changing our thinking.”\n",
      "“It is our choices, Harry, that show what we truly are, far more than our abilities.”\n",
      "“There are only two ways to live your life. One is as though nothing is a miracle. The other is as though everything is a miracle.”\n",
      "“The person, be it gentleman or lady, who has not pleasure in a good novel, must be intolerably stupid.”\n",
      "“Imperfection is beauty, madness is genius and it's better to be absolutely ridiculous than absolutely boring.”\n",
      "“Try not to become a man of success. Rather become a man of value.”\n",
      "“It is better to be hated for what you are than to be loved for what you are not.”\n",
      "“I have not failed. I've just found 10,000 ways that won't work.”\n",
      "“A woman is like a tea bag; you never know how strong it is until it's in hot water.”\n",
      "“A day without sunshine is like, you know, night.”\n",
      "“This life is what you make it. No matter what, you're going to mess up sometimes, it's a universal truth. But the good part is you get to decide how you're going to mess it up. Girls will be your friends - they'll act like it anyway. But just remember, some come, some go. The ones that stay with you through everything - they're your true best friends. Don't let go of them. Also remember, sisters make the best friends in the world. As for lovers, well, they'll come and go too. And baby, I hate to say it, most of them - actually pretty much all of them are going to break your heart, but you can't give up because if you give up, you'll never find your soulmate. You'll never find that half who makes you whole and that goes for everything. Just because you fail once, doesn't mean you're gonna fail at everything. Keep trying, hold on, and always, always, always believe in yourself, because if you don't, then who will, sweetie? So keep your head high, keep your chin up, and most importantly, keep smiling, because life's a beautiful thing and there's so much to smile about.”\n",
      "“It takes a great deal of bravery to stand up to our enemies, but just as much to stand up to our friends.”\n",
      "“If you can't explain it to a six year old, you don't understand it yourself.”\n",
      "“You may not be her first, her last, or her only. She loved before she may love again. But if she loves you now, what else matters? She's not perfect—you aren't either, and the two of you may never be perfect together but if she can make you laugh, cause you to think twice, and admit to being human and making mistakes, hold onto her and give her the most you can. She may not be thinking about you every second of the day, but she will give you a part of her that she knows you can break—her heart. So don't hurt her, don't change her, don't analyze and don't expect more than she can give. Smile when she makes you happy, let her know when she makes you mad, and miss her when she's not there.”\n",
      "“I like nonsense, it wakes up the brain cells. Fantasy is a necessary ingredient in living.”\n",
      "“I may not have gone where I intended to go, but I think I have ended up where I needed to be.”\n",
      "“The opposite of love is not hate, it's indifference. The opposite of art is not ugliness, it's indifference. The opposite of faith is not heresy, it's indifference. And the opposite of life is not death, it's indifference.”\n",
      "“It is not a lack of love, but a lack of friendship that makes unhappy marriages.”\n",
      "“Good friends, good books, and a sleepy conscience: this is the ideal life.”\n",
      "“Life is what happens to us while we are making other plans.”\n",
      "“I love you without knowing how, or when, or from where. I love you simply, without problems or pride: I love you in this way because I do not know any other way of loving but this, in which there is no I or you, so intimate that your hand upon my chest is my hand, so intimate that when I fall asleep your eyes close.”\n",
      "“For every minute you are angry you lose sixty seconds of happiness.”\n",
      "“If you judge people, you have no time to love them.”\n",
      "“Anyone who thinks sitting in church can make you a Christian must also think that sitting in a garage can make you a car.”\n",
      "“Beauty is in the eye of the beholder and it may be necessary from time to time to give a stupid or misinformed beholder a black eye.”\n",
      "“Today you are You, that is truer than true. There is no one alive who is Youer than You.”\n",
      "“If you want your children to be intelligent, read them fairy tales. If you want them to be more intelligent, read them more fairy tales.”\n",
      "“It is impossible to live without failing at something, unless you live so cautiously that you might as well not have lived at all - in which case, you fail by default.”\n",
      "“Logic will get you from A to Z; imagination will get you everywhere.”\n",
      "“One good thing about music, when it hits you, you feel no pain.”\n",
      "“The more that you read, the more things you will know. The more that you learn, the more places you'll go.”\n",
      "“Of course it is happening inside your head, Harry, but why on earth should that mean that it is not real?”\n",
      "“The truth is, everyone is going to hurt you. You just got to find the ones worth suffering for.”\n",
      "“Not all of us can do great things. But we can do small things with great love.”\n",
      "“To the well-organized mind, death is but the next great adventure.”\n",
      "“All you need is love. But a little chocolate now and then doesn't hurt.”\n",
      "“We read to know we're not alone.”\n",
      "“Any fool can know. The point is to understand.”\n",
      "“I have always imagined that Paradise will be a kind of library.”\n",
      "“It is never too late to be what you might have been.”\n",
      "“A reader lives a thousand lives before he dies, said Jojen. The man who never reads lives only one.”\n",
      "“You can never get a cup of tea large enough or a book long enough to suit me.”\n",
      "“You believe lies so you eventually learn to trust no one but yourself.”\n",
      "“If you can make a woman laugh, you can make her do anything.”\n",
      "“Life is like riding a bicycle. To keep your balance, you must keep moving.”\n",
      "“The real lover is the man who can thrill you by kissing your forehead or smiling into your eyes or just staring into space.”\n",
      "“A wise girl kisses but doesn't love, listens but doesn't believe, and leaves before she is left.”\n",
      "“Only in the darkness can you see the stars.”\n",
      "“It matters not what someone is born, but what they grow to be.”\n",
      "“Love does not begin and end the way we seem to think it does. Love is a battle, love is a war; love is a growing up.”\n",
      "“There is nothing I would not do for those who are really my friends. I have no notion of loving people by halves, it is not my nature.”\n",
      "“Do one thing every day that scares you.”\n",
      "“I am good, but not an angel. I do sin, but I am not the devil. I am just a small girl in a big world trying to find someone to love.”\n",
      "“If I were not a physicist, I would probably be a musician. I often think in music. I live my daydreams in music. I see my life in terms of music.”\n",
      "“If you only read the books that everyone else is reading, you can only think what everyone else is thinking.”\n",
      "“The difference between genius and stupidity is: genius has its limits.”\n",
      "“He's like a drug for you, Bella.”\n",
      "“There is no friend as loyal as a book.”\n",
      "“When one door of happiness closes, another opens; but often we look so long at the closed door that we do not see the one which has been opened for us.”\n",
      "“Life isn't about finding yourself. Life is about creating yourself.”\n",
      "“That's the problem with drinking, I thought, as I poured myself a drink. If something bad happens you drink in an attempt to forget; if something good happens you drink in order to celebrate; and if nothing happens you drink to make something happen.”\n",
      "“You don’t forget the face of the person who was your last hope.”\n",
      "“Remember, we're madly in love, so it's all right to kiss me anytime you feel like it.”\n",
      "“To love at all is to be vulnerable. Love anything and your heart will be wrung and possibly broken. If you want to make sure of keeping it intact you must give it to no one, not even an animal. Wrap it carefully round with hobbies and little luxuries; avoid all entanglements. Lock it up safe in the casket or coffin of your selfishness. But in that casket, safe, dark, motionless, airless, it will change. It will not be broken; it will become unbreakable, impenetrable, irredeemable. To love is to be vulnerable.”\n",
      "“Not all those who wander are lost.”\n",
      "“Do not pity the dead, Harry. Pity the living, and, above all those who live without love.”\n",
      "“There is nothing to writing. All you do is sit down at a typewriter and bleed.”\n",
      "“Finish each day and be done with it. You have done what you could. Some blunders and absurdities no doubt crept in; forget them as soon as you can. Tomorrow is a new day. You shall begin it serenely and with too high a spirit to be encumbered with your old nonsense.”\n",
      "“I have never let my schooling interfere with my education.”\n",
      "“I have heard there are troubles of more than one kind. Some come from ahead and some come from behind. But I've bought a big bat. I'm all ready you see. Now my troubles are going to have troubles with me!”\n",
      "“If I had a flower for every time I thought of you...I could walk through my garden forever.”\n",
      "“Some people never go crazy. What truly horrible lives they must lead.”\n",
      "“The trouble with having an open mind, of course, is that people will insist on coming along and trying to put things in it.”\n",
      "“Think left and think right and think low and think high. Oh, the thinks you can think up if only you try!”\n",
      "“What really knocks me out is a book that, when you're all done reading it, you wish the author that wrote it was a terrific friend of yours and you could call him up on the phone whenever you felt like it. That doesn't happen much, though.”\n",
      "“The reason I talk to myself is because I’m the only one whose answers I accept.”\n",
      "“You may say I'm a dreamer, but I'm not the only one. I hope someday you'll join us. And the world will live as one.”\n",
      "“I am free of all prejudice. I hate everyone equally. ”\n",
      "“The question isn't who is going to let me; it's who is going to stop me.”\n",
      "“′Classic′ - a book which people praise and don't read.”\n",
      "“Anyone who has never made a mistake has never tried anything new.”\n",
      "“A lady's imagination is very rapid; it jumps from admiration to love, from love to matrimony in a moment.”\n",
      "“Remember, if the time should come when you have to make a choice between what is right and what is easy, remember what happened to a boy who was good, and kind, and brave, because he strayed across the path of Lord Voldemort. Remember Cedric Diggory.”\n",
      "“I declare after all there is no enjoyment like reading! How much sooner one tires of any thing than of a book! -- When I have a house of my own, I shall be miserable if I have not an excellent library.”\n",
      "“There are few people whom I really love, and still fewer of whom I think well. The more I see of the world, the more am I dissatisfied with it; and every day confirms my belief of the inconsistency of all human characters, and of the little dependence that can be placed on the appearance of merit or sense.”\n",
      "“Some day you will be old enough to start reading fairy tales again.”\n",
      "“We are not necessarily doubting that God will do the best for us; we are wondering how painful the best will turn out to be.”\n",
      "“The fear of death follows from the fear of life. A man who lives fully is prepared to die at any time.”\n",
      "“A lie can travel half way around the world while the truth is putting on its shoes.”\n",
      "“I believe in Christianity as I believe that the sun has risen: not only because I see it, but because by it I see everything else.”\n",
      "“The truth.\" Dumbledore sighed. \"It is a beautiful and terrible thing, and should therefore be treated with great caution.”\n",
      "“I'm the one that's got to die when it's time for me to die, so let me live my life the way I want to.”\n",
      "“To die will be an awfully big adventure.”\n",
      "“It takes courage to grow up and become who you really are.”\n",
      "“But better to get hurt by the truth than comforted with a lie.”\n",
      "“You never really understand a person until you consider things from his point of view... Until you climb inside of his skin and walk around in it.”\n",
      "“You have to write the book that wants to be written. And if the book will be too difficult for grown-ups, then you write it for children.”\n",
      "“Never tell the truth to people who are not worthy of it.”\n",
      "“A person's a person, no matter how small.”\n",
      "“... a mind needs books as a sword needs a whetstone, if it is to keep its edge.”\n"
     ]
    }
   ],
   "source": [
    "import requests\n",
    "from bs4 import BeautifulSoup\n",
    "\n",
    "base_url = 'http://quotes.toscrape.com'\n",
    "next_url = '/page/1/'\n",
    "while next_url:\n",
    "    response = requests.get(f\"{base_url}{next_url}\")\n",
    "    soup = BeautifulSoup(response.text, 'html.parser')\n",
    "\n",
    "    quotes = soup.find_all(\"div\", class_=\"quote\")\n",
    "    for quote in quotes:\n",
    "        print(quote.find(\"span\", class_=\"text\").text)\n",
    "\n",
    "    next_button = soup.find(\"li\", class_=\"next\")\n",
    "    next_url = next_button.find(\"a\")[\"href\"] if next_button else None"
   ]
  },
  {
   "cell_type": "code",
   "execution_count": 4,
   "metadata": {},
   "outputs": [
    {
     "name": "stdout",
     "output_type": "stream",
     "text": [
      "Albert Einstein: “The world as we have created it is a process of our thinking. It cannot be changed without changing our thinking.”\n",
      "J.K. Rowling: “It is our choices, Harry, that show what we truly are, far more than our abilities.”\n",
      "Albert Einstein: “There are only two ways to live your life. One is as though nothing is a miracle. The other is as though everything is a miracle.”\n",
      "Jane Austen: “The person, be it gentleman or lady, who has not pleasure in a good novel, must be intolerably stupid.”\n",
      "Marilyn Monroe: “Imperfection is beauty, madness is genius and it's better to be absolutely ridiculous than absolutely boring.”\n",
      "Albert Einstein: “Try not to become a man of success. Rather become a man of value.”\n",
      "André Gide: “It is better to be hated for what you are than to be loved for what you are not.”\n",
      "Thomas A. Edison: “I have not failed. I've just found 10,000 ways that won't work.”\n",
      "Eleanor Roosevelt: “A woman is like a tea bag; you never know how strong it is until it's in hot water.”\n",
      "Steve Martin: “A day without sunshine is like, you know, night.”\n",
      "Marilyn Monroe: “This life is what you make it. No matter what, you're going to mess up sometimes, it's a universal truth. But the good part is you get to decide how you're going to mess it up. Girls will be your friends - they'll act like it anyway. But just remember, some come, some go. The ones that stay with you through everything - they're your true best friends. Don't let go of them. Also remember, sisters make the best friends in the world. As for lovers, well, they'll come and go too. And baby, I hate to say it, most of them - actually pretty much all of them are going to break your heart, but you can't give up because if you give up, you'll never find your soulmate. You'll never find that half who makes you whole and that goes for everything. Just because you fail once, doesn't mean you're gonna fail at everything. Keep trying, hold on, and always, always, always believe in yourself, because if you don't, then who will, sweetie? So keep your head high, keep your chin up, and most importantly, keep smiling, because life's a beautiful thing and there's so much to smile about.”\n",
      "J.K. Rowling: “It takes a great deal of bravery to stand up to our enemies, but just as much to stand up to our friends.”\n",
      "Albert Einstein: “If you can't explain it to a six year old, you don't understand it yourself.”\n",
      "Bob Marley: “You may not be her first, her last, or her only. She loved before she may love again. But if she loves you now, what else matters? She's not perfect—you aren't either, and the two of you may never be perfect together but if she can make you laugh, cause you to think twice, and admit to being human and making mistakes, hold onto her and give her the most you can. She may not be thinking about you every second of the day, but she will give you a part of her that she knows you can break—her heart. So don't hurt her, don't change her, don't analyze and don't expect more than she can give. Smile when she makes you happy, let her know when she makes you mad, and miss her when she's not there.”\n",
      "Dr. Seuss: “I like nonsense, it wakes up the brain cells. Fantasy is a necessary ingredient in living.”\n",
      "Douglas Adams: “I may not have gone where I intended to go, but I think I have ended up where I needed to be.”\n",
      "Elie Wiesel: “The opposite of love is not hate, it's indifference. The opposite of art is not ugliness, it's indifference. The opposite of faith is not heresy, it's indifference. And the opposite of life is not death, it's indifference.”\n",
      "Friedrich Nietzsche: “It is not a lack of love, but a lack of friendship that makes unhappy marriages.”\n",
      "Mark Twain: “Good friends, good books, and a sleepy conscience: this is the ideal life.”\n",
      "Allen Saunders: “Life is what happens to us while we are making other plans.”\n",
      "Pablo Neruda: “I love you without knowing how, or when, or from where. I love you simply, without problems or pride: I love you in this way because I do not know any other way of loving but this, in which there is no I or you, so intimate that your hand upon my chest is my hand, so intimate that when I fall asleep your eyes close.”\n",
      "Ralph Waldo Emerson: “For every minute you are angry you lose sixty seconds of happiness.”\n",
      "Mother Teresa: “If you judge people, you have no time to love them.”\n",
      "Garrison Keillor: “Anyone who thinks sitting in church can make you a Christian must also think that sitting in a garage can make you a car.”\n",
      "Jim Henson: “Beauty is in the eye of the beholder and it may be necessary from time to time to give a stupid or misinformed beholder a black eye.”\n",
      "Dr. Seuss: “Today you are You, that is truer than true. There is no one alive who is Youer than You.”\n",
      "Albert Einstein: “If you want your children to be intelligent, read them fairy tales. If you want them to be more intelligent, read them more fairy tales.”\n",
      "J.K. Rowling: “It is impossible to live without failing at something, unless you live so cautiously that you might as well not have lived at all - in which case, you fail by default.”\n",
      "Albert Einstein: “Logic will get you from A to Z; imagination will get you everywhere.”\n",
      "Bob Marley: “One good thing about music, when it hits you, you feel no pain.”\n",
      "Dr. Seuss: “The more that you read, the more things you will know. The more that you learn, the more places you'll go.”\n",
      "J.K. Rowling: “Of course it is happening inside your head, Harry, but why on earth should that mean that it is not real?”\n",
      "Bob Marley: “The truth is, everyone is going to hurt you. You just got to find the ones worth suffering for.”\n",
      "Mother Teresa: “Not all of us can do great things. But we can do small things with great love.”\n",
      "J.K. Rowling: “To the well-organized mind, death is but the next great adventure.”\n",
      "Charles M. Schulz: “All you need is love. But a little chocolate now and then doesn't hurt.”\n",
      "William Nicholson: “We read to know we're not alone.”\n",
      "Albert Einstein: “Any fool can know. The point is to understand.”\n",
      "Jorge Luis Borges: “I have always imagined that Paradise will be a kind of library.”\n",
      "George Eliot: “It is never too late to be what you might have been.”\n",
      "George R.R. Martin: “A reader lives a thousand lives before he dies, said Jojen. The man who never reads lives only one.”\n",
      "C.S. Lewis: “You can never get a cup of tea large enough or a book long enough to suit me.”\n",
      "Marilyn Monroe: “You believe lies so you eventually learn to trust no one but yourself.”\n",
      "Marilyn Monroe: “If you can make a woman laugh, you can make her do anything.”\n",
      "Albert Einstein: “Life is like riding a bicycle. To keep your balance, you must keep moving.”\n",
      "Marilyn Monroe: “The real lover is the man who can thrill you by kissing your forehead or smiling into your eyes or just staring into space.”\n",
      "Marilyn Monroe: “A wise girl kisses but doesn't love, listens but doesn't believe, and leaves before she is left.”\n",
      "Martin Luther King Jr.: “Only in the darkness can you see the stars.”\n",
      "J.K. Rowling: “It matters not what someone is born, but what they grow to be.”\n",
      "James Baldwin: “Love does not begin and end the way we seem to think it does. Love is a battle, love is a war; love is a growing up.”\n",
      "Jane Austen: “There is nothing I would not do for those who are really my friends. I have no notion of loving people by halves, it is not my nature.”\n",
      "Eleanor Roosevelt: “Do one thing every day that scares you.”\n",
      "Marilyn Monroe: “I am good, but not an angel. I do sin, but I am not the devil. I am just a small girl in a big world trying to find someone to love.”\n",
      "Albert Einstein: “If I were not a physicist, I would probably be a musician. I often think in music. I live my daydreams in music. I see my life in terms of music.”\n",
      "Haruki Murakami: “If you only read the books that everyone else is reading, you can only think what everyone else is thinking.”\n",
      "Alexandre Dumas fils: “The difference between genius and stupidity is: genius has its limits.”\n",
      "Stephenie Meyer: “He's like a drug for you, Bella.”\n",
      "Ernest Hemingway: “There is no friend as loyal as a book.”\n",
      "Helen Keller: “When one door of happiness closes, another opens; but often we look so long at the closed door that we do not see the one which has been opened for us.”\n",
      "George Bernard Shaw: “Life isn't about finding yourself. Life is about creating yourself.”\n",
      "Charles Bukowski: “That's the problem with drinking, I thought, as I poured myself a drink. If something bad happens you drink in an attempt to forget; if something good happens you drink in order to celebrate; and if nothing happens you drink to make something happen.”\n",
      "Suzanne Collins: “You don’t forget the face of the person who was your last hope.”\n",
      "Suzanne Collins: “Remember, we're madly in love, so it's all right to kiss me anytime you feel like it.”\n",
      "C.S. Lewis: “To love at all is to be vulnerable. Love anything and your heart will be wrung and possibly broken. If you want to make sure of keeping it intact you must give it to no one, not even an animal. Wrap it carefully round with hobbies and little luxuries; avoid all entanglements. Lock it up safe in the casket or coffin of your selfishness. But in that casket, safe, dark, motionless, airless, it will change. It will not be broken; it will become unbreakable, impenetrable, irredeemable. To love is to be vulnerable.”\n",
      "J.R.R. Tolkien: “Not all those who wander are lost.”\n",
      "J.K. Rowling: “Do not pity the dead, Harry. Pity the living, and, above all those who live without love.”\n",
      "Ernest Hemingway: “There is nothing to writing. All you do is sit down at a typewriter and bleed.”\n",
      "Ralph Waldo Emerson: “Finish each day and be done with it. You have done what you could. Some blunders and absurdities no doubt crept in; forget them as soon as you can. Tomorrow is a new day. You shall begin it serenely and with too high a spirit to be encumbered with your old nonsense.”\n",
      "Mark Twain: “I have never let my schooling interfere with my education.”\n",
      "Dr. Seuss: “I have heard there are troubles of more than one kind. Some come from ahead and some come from behind. But I've bought a big bat. I'm all ready you see. Now my troubles are going to have troubles with me!”\n",
      "Alfred Tennyson: “If I had a flower for every time I thought of you...I could walk through my garden forever.”\n",
      "Charles Bukowski: “Some people never go crazy. What truly horrible lives they must lead.”\n",
      "Terry Pratchett: “The trouble with having an open mind, of course, is that people will insist on coming along and trying to put things in it.”\n",
      "Dr. Seuss: “Think left and think right and think low and think high. Oh, the thinks you can think up if only you try!”\n",
      "J.D. Salinger: “What really knocks me out is a book that, when you're all done reading it, you wish the author that wrote it was a terrific friend of yours and you could call him up on the phone whenever you felt like it. That doesn't happen much, though.”\n",
      "George Carlin: “The reason I talk to myself is because I’m the only one whose answers I accept.”\n",
      "John Lennon: “You may say I'm a dreamer, but I'm not the only one. I hope someday you'll join us. And the world will live as one.”\n",
      "W.C. Fields: “I am free of all prejudice. I hate everyone equally. ”\n",
      "Ayn Rand: “The question isn't who is going to let me; it's who is going to stop me.”\n",
      "Mark Twain: “′Classic′ - a book which people praise and don't read.”\n",
      "Albert Einstein: “Anyone who has never made a mistake has never tried anything new.”\n",
      "Jane Austen: “A lady's imagination is very rapid; it jumps from admiration to love, from love to matrimony in a moment.”\n",
      "J.K. Rowling: “Remember, if the time should come when you have to make a choice between what is right and what is easy, remember what happened to a boy who was good, and kind, and brave, because he strayed across the path of Lord Voldemort. Remember Cedric Diggory.”\n",
      "Jane Austen: “I declare after all there is no enjoyment like reading! How much sooner one tires of any thing than of a book! -- When I have a house of my own, I shall be miserable if I have not an excellent library.”\n",
      "Jane Austen: “There are few people whom I really love, and still fewer of whom I think well. The more I see of the world, the more am I dissatisfied with it; and every day confirms my belief of the inconsistency of all human characters, and of the little dependence that can be placed on the appearance of merit or sense.”\n",
      "C.S. Lewis: “Some day you will be old enough to start reading fairy tales again.”\n",
      "C.S. Lewis: “We are not necessarily doubting that God will do the best for us; we are wondering how painful the best will turn out to be.”\n",
      "Mark Twain: “The fear of death follows from the fear of life. A man who lives fully is prepared to die at any time.”\n",
      "Mark Twain: “A lie can travel half way around the world while the truth is putting on its shoes.”\n",
      "C.S. Lewis: “I believe in Christianity as I believe that the sun has risen: not only because I see it, but because by it I see everything else.”\n",
      "J.K. Rowling: “The truth.\" Dumbledore sighed. \"It is a beautiful and terrible thing, and should therefore be treated with great caution.”\n",
      "Jimi Hendrix: “I'm the one that's got to die when it's time for me to die, so let me live my life the way I want to.”\n",
      "J.M. Barrie: “To die will be an awfully big adventure.”\n",
      "E.E. Cummings: “It takes courage to grow up and become who you really are.”\n",
      "Khaled Hosseini: “But better to get hurt by the truth than comforted with a lie.”\n",
      "Harper Lee: “You never really understand a person until you consider things from his point of view... Until you climb inside of his skin and walk around in it.”\n",
      "Madeleine L'Engle: “You have to write the book that wants to be written. And if the book will be too difficult for grown-ups, then you write it for children.”\n",
      "Mark Twain: “Never tell the truth to people who are not worthy of it.”\n",
      "Dr. Seuss: “A person's a person, no matter how small.”\n",
      "George R.R. Martin: “... a mind needs books as a sword needs a whetstone, if it is to keep its edge.”\n"
     ]
    }
   ],
   "source": [
    "import requests\n",
    "from bs4 import BeautifulSoup\n",
    "\n",
    "base_url = 'http://quotes.toscrape.com'\n",
    "next_url = '/page/1/'\n",
    "while next_url:\n",
    "    response = requests.get(f\"{base_url}{next_url}\")\n",
    "    soup = BeautifulSoup(response.text, 'html.parser')\n",
    "\n",
    "    quotes = soup.find_all(\"div\", class_=\"quote\")\n",
    "\n",
    "    # Print author and quote text for each quote\n",
    "    for quote in quotes:\n",
    "        quote_text = quote.find(\"span\", class_=\"text\").text.strip()  # Get and clean quote text\n",
    "        author = quote.find(\"small\", class_=\"author\").text.strip()   # Get and clean author name\n",
    "        print(f\"{author}: {quote_text}\")\n",
    "\n",
    "    next_button = soup.find(\"li\", class_=\"next\")\n",
    "    next_url = next_button.find(\"a\")[\"href\"] if next_button else None"
   ]
  },
  {
   "cell_type": "code",
   "execution_count": 5,
   "metadata": {},
   "outputs": [
    {
     "name": "stdout",
     "output_type": "stream",
     "text": [
      "“The world as we have created it is a process of our thinking. It cannot be changed without changing our thinking.”\n",
      "“It is our choices, Harry, that show what we truly are, far more than our abilities.”\n",
      "“There are only two ways to live your life. One is as though nothing is a miracle. The other is as though everything is a miracle.”\n",
      "“The person, be it gentleman or lady, who has not pleasure in a good novel, must be intolerably stupid.”\n",
      "“Imperfection is beauty, madness is genius and it's better to be absolutely ridiculous than absolutely boring.”\n",
      "“Try not to become a man of success. Rather become a man of value.”\n",
      "“It is better to be hated for what you are than to be loved for what you are not.”\n",
      "“I have not failed. I've just found 10,000 ways that won't work.”\n",
      "“A woman is like a tea bag; you never know how strong it is until it's in hot water.”\n",
      "“A day without sunshine is like, you know, night.”\n",
      "“This life is what you make it. No matter what, you're going to mess up sometimes, it's a universal truth. But the good part is you get to decide how you're going to mess it up. Girls will be your friends - they'll act like it anyway. But just remember, some come, some go. The ones that stay with you through everything - they're your true best friends. Don't let go of them. Also remember, sisters make the best friends in the world. As for lovers, well, they'll come and go too. And baby, I hate to say it, most of them - actually pretty much all of them are going to break your heart, but you can't give up because if you give up, you'll never find your soulmate. You'll never find that half who makes you whole and that goes for everything. Just because you fail once, doesn't mean you're gonna fail at everything. Keep trying, hold on, and always, always, always believe in yourself, because if you don't, then who will, sweetie? So keep your head high, keep your chin up, and most importantly, keep smiling, because life's a beautiful thing and there's so much to smile about.”\n",
      "“It takes a great deal of bravery to stand up to our enemies, but just as much to stand up to our friends.”\n",
      "“If you can't explain it to a six year old, you don't understand it yourself.”\n",
      "“You may not be her first, her last, or her only. She loved before she may love again. But if she loves you now, what else matters? She's not perfect—you aren't either, and the two of you may never be perfect together but if she can make you laugh, cause you to think twice, and admit to being human and making mistakes, hold onto her and give her the most you can. She may not be thinking about you every second of the day, but she will give you a part of her that she knows you can break—her heart. So don't hurt her, don't change her, don't analyze and don't expect more than she can give. Smile when she makes you happy, let her know when she makes you mad, and miss her when she's not there.”\n",
      "“I like nonsense, it wakes up the brain cells. Fantasy is a necessary ingredient in living.”\n",
      "“I may not have gone where I intended to go, but I think I have ended up where I needed to be.”\n",
      "“The opposite of love is not hate, it's indifference. The opposite of art is not ugliness, it's indifference. The opposite of faith is not heresy, it's indifference. And the opposite of life is not death, it's indifference.”\n",
      "“It is not a lack of love, but a lack of friendship that makes unhappy marriages.”\n",
      "“Good friends, good books, and a sleepy conscience: this is the ideal life.”\n",
      "“Life is what happens to us while we are making other plans.”\n",
      "“I love you without knowing how, or when, or from where. I love you simply, without problems or pride: I love you in this way because I do not know any other way of loving but this, in which there is no I or you, so intimate that your hand upon my chest is my hand, so intimate that when I fall asleep your eyes close.”\n",
      "“For every minute you are angry you lose sixty seconds of happiness.”\n",
      "“If you judge people, you have no time to love them.”\n",
      "“Anyone who thinks sitting in church can make you a Christian must also think that sitting in a garage can make you a car.”\n",
      "“Beauty is in the eye of the beholder and it may be necessary from time to time to give a stupid or misinformed beholder a black eye.”\n",
      "“Today you are You, that is truer than true. There is no one alive who is Youer than You.”\n",
      "“If you want your children to be intelligent, read them fairy tales. If you want them to be more intelligent, read them more fairy tales.”\n",
      "“It is impossible to live without failing at something, unless you live so cautiously that you might as well not have lived at all - in which case, you fail by default.”\n",
      "“Logic will get you from A to Z; imagination will get you everywhere.”\n",
      "“One good thing about music, when it hits you, you feel no pain.”\n",
      "“The more that you read, the more things you will know. The more that you learn, the more places you'll go.”\n",
      "“Of course it is happening inside your head, Harry, but why on earth should that mean that it is not real?”\n",
      "“The truth is, everyone is going to hurt you. You just got to find the ones worth suffering for.”\n",
      "“Not all of us can do great things. But we can do small things with great love.”\n",
      "“To the well-organized mind, death is but the next great adventure.”\n",
      "“All you need is love. But a little chocolate now and then doesn't hurt.”\n",
      "“We read to know we're not alone.”\n",
      "“Any fool can know. The point is to understand.”\n",
      "“I have always imagined that Paradise will be a kind of library.”\n",
      "“It is never too late to be what you might have been.”\n",
      "“A reader lives a thousand lives before he dies, said Jojen. The man who never reads lives only one.”\n",
      "“You can never get a cup of tea large enough or a book long enough to suit me.”\n",
      "“You believe lies so you eventually learn to trust no one but yourself.”\n",
      "“If you can make a woman laugh, you can make her do anything.”\n",
      "“Life is like riding a bicycle. To keep your balance, you must keep moving.”\n",
      "“The real lover is the man who can thrill you by kissing your forehead or smiling into your eyes or just staring into space.”\n",
      "“A wise girl kisses but doesn't love, listens but doesn't believe, and leaves before she is left.”\n",
      "“Only in the darkness can you see the stars.”\n",
      "“It matters not what someone is born, but what they grow to be.”\n",
      "“Love does not begin and end the way we seem to think it does. Love is a battle, love is a war; love is a growing up.”\n",
      "\n",
      "Fetched quotes from a total of 5 pages.\n"
     ]
    }
   ],
   "source": [
    "import requests\n",
    "from bs4 import BeautifulSoup\n",
    "\n",
    "base_url = 'http://quotes.toscrape.com'\n",
    "next_url = '/page/1/'\n",
    "page_count = 0  # Counter to track the number of pages fetched\n",
    "\n",
    "while next_url and page_count < 5:\n",
    "    response = requests.get(f\"{base_url}{next_url}\")\n",
    "    soup = BeautifulSoup(response.text, 'html.parser')\n",
    "\n",
    "    quotes = soup.find_all(\"div\", class_=\"quote\")\n",
    "    for quote in quotes:\n",
    "        print(quote.find(\"span\", class_=\"text\").text)\n",
    "\n",
    "    next_button = soup.find(\"li\", class_=\"next\")\n",
    "    next_url = next_button.find(\"a\")[\"href\"] if next_button else None\n",
    "    page_count += 1  # Increment page counter\n",
    "\n",
    "print(f\"\\nFetched quotes from a total of {page_count} pages.\")"
   ]
  },
  {
   "cell_type": "code",
   "execution_count": 6,
   "metadata": {},
   "outputs": [
    {
     "name": "stdout",
     "output_type": "stream",
     "text": [
      "“The world as we have created it is a process of our thinking. It cannot be changed without changing our thinking.” by Albert Einstein\n",
      "“It is our choices, Harry, that show what we truly are, far more than our abilities.” by J.K. Rowling\n",
      "“There are only two ways to live your life. One is as though nothing is a miracle. The other is as though everything is a miracle.” by Albert Einstein\n",
      "“The person, be it gentleman or lady, who has not pleasure in a good novel, must be intolerably stupid.” by Jane Austen\n",
      "“Imperfection is beauty, madness is genius and it's better to be absolutely ridiculous than absolutely boring.” by Marilyn Monroe\n",
      "“Try not to become a man of success. Rather become a man of value.” by Albert Einstein\n",
      "“It is better to be hated for what you are than to be loved for what you are not.” by André Gide\n",
      "“I have not failed. I've just found 10,000 ways that won't work.” by Thomas A. Edison\n",
      "“A woman is like a tea bag; you never know how strong it is until it's in hot water.” by Eleanor Roosevelt\n",
      "“A day without sunshine is like, you know, night.” by Steve Martin\n",
      "“This life is what you make it. No matter what, you're going to mess up sometimes, it's a universal truth. But the good part is you get to decide how you're going to mess it up. Girls will be your friends - they'll act like it anyway. But just remember, some come, some go. The ones that stay with you through everything - they're your true best friends. Don't let go of them. Also remember, sisters make the best friends in the world. As for lovers, well, they'll come and go too. And baby, I hate to say it, most of them - actually pretty much all of them are going to break your heart, but you can't give up because if you give up, you'll never find your soulmate. You'll never find that half who makes you whole and that goes for everything. Just because you fail once, doesn't mean you're gonna fail at everything. Keep trying, hold on, and always, always, always believe in yourself, because if you don't, then who will, sweetie? So keep your head high, keep your chin up, and most importantly, keep smiling, because life's a beautiful thing and there's so much to smile about.” by Marilyn Monroe\n",
      "“It takes a great deal of bravery to stand up to our enemies, but just as much to stand up to our friends.” by J.K. Rowling\n",
      "“If you can't explain it to a six year old, you don't understand it yourself.” by Albert Einstein\n",
      "“You may not be her first, her last, or her only. She loved before she may love again. But if she loves you now, what else matters? She's not perfect—you aren't either, and the two of you may never be perfect together but if she can make you laugh, cause you to think twice, and admit to being human and making mistakes, hold onto her and give her the most you can. She may not be thinking about you every second of the day, but she will give you a part of her that she knows you can break—her heart. So don't hurt her, don't change her, don't analyze and don't expect more than she can give. Smile when she makes you happy, let her know when she makes you mad, and miss her when she's not there.” by Bob Marley\n",
      "“I like nonsense, it wakes up the brain cells. Fantasy is a necessary ingredient in living.” by Dr. Seuss\n",
      "“I may not have gone where I intended to go, but I think I have ended up where I needed to be.” by Douglas Adams\n",
      "“The opposite of love is not hate, it's indifference. The opposite of art is not ugliness, it's indifference. The opposite of faith is not heresy, it's indifference. And the opposite of life is not death, it's indifference.” by Elie Wiesel\n",
      "“It is not a lack of love, but a lack of friendship that makes unhappy marriages.” by Friedrich Nietzsche\n",
      "“Good friends, good books, and a sleepy conscience: this is the ideal life.” by Mark Twain\n",
      "“Life is what happens to us while we are making other plans.” by Allen Saunders\n",
      "“I love you without knowing how, or when, or from where. I love you simply, without problems or pride: I love you in this way because I do not know any other way of loving but this, in which there is no I or you, so intimate that your hand upon my chest is my hand, so intimate that when I fall asleep your eyes close.” by Pablo Neruda\n",
      "“For every minute you are angry you lose sixty seconds of happiness.” by Ralph Waldo Emerson\n",
      "“If you judge people, you have no time to love them.” by Mother Teresa\n",
      "“Anyone who thinks sitting in church can make you a Christian must also think that sitting in a garage can make you a car.” by Garrison Keillor\n",
      "“Beauty is in the eye of the beholder and it may be necessary from time to time to give a stupid or misinformed beholder a black eye.” by Jim Henson\n",
      "“Today you are You, that is truer than true. There is no one alive who is Youer than You.” by Dr. Seuss\n",
      "“If you want your children to be intelligent, read them fairy tales. If you want them to be more intelligent, read them more fairy tales.” by Albert Einstein\n",
      "“It is impossible to live without failing at something, unless you live so cautiously that you might as well not have lived at all - in which case, you fail by default.” by J.K. Rowling\n",
      "“Logic will get you from A to Z; imagination will get you everywhere.” by Albert Einstein\n",
      "“One good thing about music, when it hits you, you feel no pain.” by Bob Marley\n",
      "“The more that you read, the more things you will know. The more that you learn, the more places you'll go.” by Dr. Seuss\n",
      "“Of course it is happening inside your head, Harry, but why on earth should that mean that it is not real?” by J.K. Rowling\n",
      "“The truth is, everyone is going to hurt you. You just got to find the ones worth suffering for.” by Bob Marley\n",
      "“Not all of us can do great things. But we can do small things with great love.” by Mother Teresa\n",
      "“To the well-organized mind, death is but the next great adventure.” by J.K. Rowling\n",
      "“All you need is love. But a little chocolate now and then doesn't hurt.” by Charles M. Schulz\n",
      "“We read to know we're not alone.” by William Nicholson\n",
      "“Any fool can know. The point is to understand.” by Albert Einstein\n",
      "“I have always imagined that Paradise will be a kind of library.” by Jorge Luis Borges\n",
      "“It is never too late to be what you might have been.” by George Eliot\n",
      "“A reader lives a thousand lives before he dies, said Jojen. The man who never reads lives only one.” by George R.R. Martin\n",
      "“You can never get a cup of tea large enough or a book long enough to suit me.” by C.S. Lewis\n",
      "“You believe lies so you eventually learn to trust no one but yourself.” by Marilyn Monroe\n",
      "“If you can make a woman laugh, you can make her do anything.” by Marilyn Monroe\n",
      "“Life is like riding a bicycle. To keep your balance, you must keep moving.” by Albert Einstein\n",
      "“The real lover is the man who can thrill you by kissing your forehead or smiling into your eyes or just staring into space.” by Marilyn Monroe\n",
      "“A wise girl kisses but doesn't love, listens but doesn't believe, and leaves before she is left.” by Marilyn Monroe\n",
      "“Only in the darkness can you see the stars.” by Martin Luther King Jr.\n",
      "“It matters not what someone is born, but what they grow to be.” by J.K. Rowling\n",
      "“Love does not begin and end the way we seem to think it does. Love is a battle, love is a war; love is a growing up.” by James Baldwin\n",
      "“There is nothing I would not do for those who are really my friends. I have no notion of loving people by halves, it is not my nature.” by Jane Austen\n",
      "“Do one thing every day that scares you.” by Eleanor Roosevelt\n",
      "“I am good, but not an angel. I do sin, but I am not the devil. I am just a small girl in a big world trying to find someone to love.” by Marilyn Monroe\n",
      "“If I were not a physicist, I would probably be a musician. I often think in music. I live my daydreams in music. I see my life in terms of music.” by Albert Einstein\n",
      "“If you only read the books that everyone else is reading, you can only think what everyone else is thinking.” by Haruki Murakami\n",
      "“The difference between genius and stupidity is: genius has its limits.” by Alexandre Dumas fils\n",
      "“He's like a drug for you, Bella.” by Stephenie Meyer\n",
      "“There is no friend as loyal as a book.” by Ernest Hemingway\n",
      "“When one door of happiness closes, another opens; but often we look so long at the closed door that we do not see the one which has been opened for us.” by Helen Keller\n",
      "“Life isn't about finding yourself. Life is about creating yourself.” by George Bernard Shaw\n",
      "“That's the problem with drinking, I thought, as I poured myself a drink. If something bad happens you drink in an attempt to forget; if something good happens you drink in order to celebrate; and if nothing happens you drink to make something happen.” by Charles Bukowski\n",
      "“You don’t forget the face of the person who was your last hope.” by Suzanne Collins\n",
      "“Remember, we're madly in love, so it's all right to kiss me anytime you feel like it.” by Suzanne Collins\n",
      "“To love at all is to be vulnerable. Love anything and your heart will be wrung and possibly broken. If you want to make sure of keeping it intact you must give it to no one, not even an animal. Wrap it carefully round with hobbies and little luxuries; avoid all entanglements. Lock it up safe in the casket or coffin of your selfishness. But in that casket, safe, dark, motionless, airless, it will change. It will not be broken; it will become unbreakable, impenetrable, irredeemable. To love is to be vulnerable.” by C.S. Lewis\n",
      "“Not all those who wander are lost.” by J.R.R. Tolkien\n",
      "“Do not pity the dead, Harry. Pity the living, and, above all those who live without love.” by J.K. Rowling\n",
      "“There is nothing to writing. All you do is sit down at a typewriter and bleed.” by Ernest Hemingway\n",
      "“Finish each day and be done with it. You have done what you could. Some blunders and absurdities no doubt crept in; forget them as soon as you can. Tomorrow is a new day. You shall begin it serenely and with too high a spirit to be encumbered with your old nonsense.” by Ralph Waldo Emerson\n",
      "“I have never let my schooling interfere with my education.” by Mark Twain\n",
      "“I have heard there are troubles of more than one kind. Some come from ahead and some come from behind. But I've bought a big bat. I'm all ready you see. Now my troubles are going to have troubles with me!” by Dr. Seuss\n",
      "“If I had a flower for every time I thought of you...I could walk through my garden forever.” by Alfred Tennyson\n",
      "“Some people never go crazy. What truly horrible lives they must lead.” by Charles Bukowski\n",
      "“The trouble with having an open mind, of course, is that people will insist on coming along and trying to put things in it.” by Terry Pratchett\n",
      "“Think left and think right and think low and think high. Oh, the thinks you can think up if only you try!” by Dr. Seuss\n",
      "“What really knocks me out is a book that, when you're all done reading it, you wish the author that wrote it was a terrific friend of yours and you could call him up on the phone whenever you felt like it. That doesn't happen much, though.” by J.D. Salinger\n",
      "“The reason I talk to myself is because I’m the only one whose answers I accept.” by George Carlin\n",
      "“You may say I'm a dreamer, but I'm not the only one. I hope someday you'll join us. And the world will live as one.” by John Lennon\n",
      "“I am free of all prejudice. I hate everyone equally. ” by W.C. Fields\n",
      "“The question isn't who is going to let me; it's who is going to stop me.” by Ayn Rand\n",
      "“′Classic′ - a book which people praise and don't read.” by Mark Twain\n",
      "“Anyone who has never made a mistake has never tried anything new.” by Albert Einstein\n",
      "“A lady's imagination is very rapid; it jumps from admiration to love, from love to matrimony in a moment.” by Jane Austen\n",
      "“Remember, if the time should come when you have to make a choice between what is right and what is easy, remember what happened to a boy who was good, and kind, and brave, because he strayed across the path of Lord Voldemort. Remember Cedric Diggory.” by J.K. Rowling\n",
      "“I declare after all there is no enjoyment like reading! How much sooner one tires of any thing than of a book! -- When I have a house of my own, I shall be miserable if I have not an excellent library.” by Jane Austen\n",
      "“There are few people whom I really love, and still fewer of whom I think well. The more I see of the world, the more am I dissatisfied with it; and every day confirms my belief of the inconsistency of all human characters, and of the little dependence that can be placed on the appearance of merit or sense.” by Jane Austen\n",
      "“Some day you will be old enough to start reading fairy tales again.” by C.S. Lewis\n",
      "“We are not necessarily doubting that God will do the best for us; we are wondering how painful the best will turn out to be.” by C.S. Lewis\n",
      "“The fear of death follows from the fear of life. A man who lives fully is prepared to die at any time.” by Mark Twain\n",
      "“A lie can travel half way around the world while the truth is putting on its shoes.” by Mark Twain\n",
      "“I believe in Christianity as I believe that the sun has risen: not only because I see it, but because by it I see everything else.” by C.S. Lewis\n",
      "“The truth.\" Dumbledore sighed. \"It is a beautiful and terrible thing, and should therefore be treated with great caution.” by J.K. Rowling\n",
      "“I'm the one that's got to die when it's time for me to die, so let me live my life the way I want to.” by Jimi Hendrix\n",
      "“To die will be an awfully big adventure.” by J.M. Barrie\n",
      "“It takes courage to grow up and become who you really are.” by E.E. Cummings\n",
      "“But better to get hurt by the truth than comforted with a lie.” by Khaled Hosseini\n",
      "“You never really understand a person until you consider things from his point of view... Until you climb inside of his skin and walk around in it.” by Harper Lee\n",
      "“You have to write the book that wants to be written. And if the book will be too difficult for grown-ups, then you write it for children.” by Madeleine L'Engle\n",
      "“Never tell the truth to people who are not worthy of it.” by Mark Twain\n",
      "“A person's a person, no matter how small.” by Dr. Seuss\n",
      "“... a mind needs books as a sword needs a whetstone, if it is to keep its edge.” by George R.R. Martin\n"
     ]
    }
   ],
   "source": [
    "import requests\n",
    "from bs4 import BeautifulSoup\n",
    "\n",
    "base_url = 'http://quotes.toscrape.com'\n",
    "next_url = '/page/1/'\n",
    "while next_url:\n",
    "    response = requests.get(f\"{base_url}{next_url}\")\n",
    "    soup = BeautifulSoup(response.text, 'html.parser')\n",
    "\n",
    "    quotes = soup.find_all(\"div\", class_=\"quote\")\n",
    "    for quote in quotes:\n",
    "        text = quote.find(\"span\", class_=\"text\").text\n",
    "        author = quote.find(\"small\", class_=\"author\").text\n",
    "        print(f\"{text} by {author}\")\n",
    "\n",
    "    # Find the \"next\" button\n",
    "    next_button = soup.find(\"li\", class_=\"next\")\n",
    "\n",
    "    # Get the URL from the \"a\" tag within the \"next\" button (if it exists)\n",
    "    next_url = next_button.find(\"a\")[\"href\"] if next_button else None"
   ]
  },
  {
   "cell_type": "code",
   "execution_count": 7,
   "metadata": {},
   "outputs": [
    {
     "name": "stdout",
     "output_type": "stream",
     "text": [
      "512\n"
     ]
    }
   ],
   "source": [
    "print(2 ** 3 ** 2)"
   ]
  },
  {
   "cell_type": "code",
   "execution_count": 10,
   "metadata": {},
   "outputs": [
    {
     "name": "stdout",
     "output_type": "stream",
     "text": [
      "8\n"
     ]
    }
   ],
   "source": [
    "list = [1,2,3,4,5,6,7,8]\n",
    "max_num = max(list)\n",
    "print(max_num)"
   ]
  },
  {
   "cell_type": "code",
   "execution_count": 1,
   "metadata": {},
   "outputs": [
    {
     "name": "stdout",
     "output_type": "stream",
     "text": [
      "Quote:  \n",
      "“The world as we have created it is a process of our thinking. It cannot be changed without changing our thinking.” Author: Albert Einstein\n",
      "\n",
      "Tag:  change\n",
      "Tag:  deep-thoughts\n",
      "Tag:  thinking\n",
      "Tag:  world\n",
      "Quote:  \n",
      "“It is our choices, Harry, that show what we truly are, far more than our abilities.” Author: J.K. Rowling\n",
      "\n",
      "Tag:  abilities\n",
      "Tag:  choices\n",
      "Quote:  \n",
      "“There are only two ways to live your life. One is as though nothing is a miracle. The other is as though everything is a miracle.” Author: Albert Einstein\n",
      "\n",
      "Tag:  inspirational\n",
      "Tag:  life\n",
      "Tag:  live\n",
      "Tag:  miracle\n",
      "Tag:  miracles\n",
      "Quote:  \n",
      "“The person, be it gentleman or lady, who has not pleasure in a good novel, must be intolerably stupid.” Author: Jane Austen\n",
      "\n",
      "Tag:  aliteracy\n",
      "Tag:  books\n",
      "Tag:  classic\n",
      "Tag:  humor\n",
      "Quote:  \n",
      "“Imperfection is beauty, madness is genius and it's better to be absolutely ridiculous than absolutely boring.” Author: Marilyn Monroe\n",
      "\n",
      "Tag:  be-yourself\n",
      "Tag:  inspirational\n",
      "Quote:  \n",
      "“Try not to become a man of success. Rather become a man of value.” Author: Albert Einstein\n",
      "\n",
      "Tag:  adulthood\n",
      "Tag:  success\n",
      "Tag:  value\n",
      "Quote:  \n",
      "“It is better to be hated for what you are than to be loved for what you are not.” Author: André Gide\n",
      "\n",
      "Tag:  life\n",
      "Tag:  love\n",
      "Quote:  \n",
      "“I have not failed. I've just found 10,000 ways that won't work.” Author: Thomas A. Edison\n",
      "\n",
      "Tag:  edison\n",
      "Tag:  failure\n",
      "Tag:  inspirational\n",
      "Tag:  paraphrased\n",
      "Quote:  \n",
      "“A woman is like a tea bag; you never know how strong it is until it's in hot water.” Author: Eleanor Roosevelt\n",
      "\n",
      "Tag:  misattributed-eleanor-roosevelt\n",
      "Quote:  \n",
      "“A day without sunshine is like, you know, night.” Author: Steve Martin\n",
      "\n",
      "Tag:  humor\n",
      "Tag:  obvious\n",
      "Tag:  simile\n"
     ]
    }
   ],
   "source": [
    "import requests\n",
    "from bs4 import BeautifulSoup\n",
    "\n",
    "url = 'http://quotes.toscrape.com/tableful'\n",
    "response = requests.get(url)\n",
    "soup = BeautifulSoup(response.text, 'html.parser')\n",
    "\n",
    "quotes = soup.find(\"table\")\n",
    "rows = quotes.find_all(\"tr\")[1:-1]\n",
    "\n",
    "for i in range(0, len(rows), 2):\n",
    "    quote = rows[i]\n",
    "    tags_row = quote.find_next_sibling()\n",
    "    tags = tags_row.find_all(\"a\") if tags_row else []\n",
    "\n",
    "    print(\"Quote: \", quote.text)\n",
    "    for tag in tags:\n",
    "        print(\"Tag: \", tag.text)"
   ]
  },
  {
   "cell_type": "code",
   "execution_count": 2,
   "metadata": {},
   "outputs": [
    {
     "name": "stdout",
     "output_type": "stream",
     "text": [
      "Quote:  “The world as we have created it is a process of our thinking. It cannot be changed without changing our thinking.” Author: Albert Einstein\n",
      "Tag:  change\n",
      "Tag:  deep-thoughts\n",
      "Tag:  thinking\n",
      "Tag:  world\n",
      "Quote:  “It is our choices, Harry, that show what we truly are, far more than our abilities.” Author: J.K. Rowling\n",
      "Tag:  abilities\n",
      "Tag:  choices\n"
     ]
    }
   ],
   "source": [
    "import requests\n",
    "from bs4 import BeautifulSoup\n",
    "\n",
    "url = 'http://quotes.toscrape.com/tableful'\n",
    "response = requests.get(url)\n",
    "soup = BeautifulSoup(response.text, 'html.parser')\n",
    "\n",
    "quotes = soup.find(\"table\")\n",
    "rows = quotes.find_all(\"tr\")[1:-1]  # Exclude header and last row\n",
    "\n",
    "# Extract only the first 2 quotes\n",
    "num_quotes_to_extract = 2\n",
    "for i in range(0, min(num_quotes_to_extract, len(rows))*2, 2):  # Limit loop iterations and handle potential index out of bounds\n",
    "    quote = rows[i]\n",
    "    tags_row = quote.find_next_sibling()\n",
    "    tags = tags_row.find_all(\"a\") if tags_row else []\n",
    "\n",
    "    print(\"Quote: \", quote.text.strip())  # Strip extra whitespace\n",
    "    for tag in tags:\n",
    "        print(\"Tag: \", tag.text.strip())  # Strip extra whitespace"
   ]
  }
 ],
 "metadata": {
  "kernelspec": {
   "display_name": "pytorch",
   "language": "python",
   "name": "python3"
  },
  "language_info": {
   "codemirror_mode": {
    "name": "ipython",
    "version": 3
   },
   "file_extension": ".py",
   "mimetype": "text/x-python",
   "name": "python",
   "nbconvert_exporter": "python",
   "pygments_lexer": "ipython3",
   "version": "3.11.7"
  }
 },
 "nbformat": 4,
 "nbformat_minor": 2
}
