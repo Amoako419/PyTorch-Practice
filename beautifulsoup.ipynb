{
 "cells": [
  {
   "cell_type": "code",
   "execution_count": 1,
   "metadata": {},
   "outputs": [
    {
     "name": "stdout",
     "output_type": "stream",
     "text": [
      "First package price: <p class=\"price\">Only $999</p>\n"
     ]
    }
   ],
   "source": [
    "from bs4 import BeautifulSoup\n",
    "\n",
    "# Here is a sample HTML of a travel booking website\n",
    "html_content = '''\n",
    "<html>\n",
    "<body>\n",
    "<div class=\"package\">\n",
    "    <h1>Bali Adventure</h1>\n",
    "    <p>Explore beautiful beaches and temples.</p>\n",
    "    <p class=\"price\">Only $999</p>\n",
    "</div>\n",
    "<div class=\"package\">\n",
    "    <h1>Paris Getaway</h1>\n",
    "    <p>Visit the Eiffel Tower and museums.</p>\n",
    "    <p class=\"price\">Starting at $1399</p>\n",
    "</div>\n",
    "</body>\n",
    "</html>'''\n",
    "\n",
    "# Create a BeautifulSoup object\n",
    "soup = BeautifulSoup(html_content, 'html.parser')\n",
    "\n",
    "# TODO: Use BeautifulSoup to find the price of the first travel package.\n",
    "first_p = soup.find('div', class_='package').find('p')\n",
    "# TODO: Update the print statement to print the first travel package\n",
    "second_p = first_p.find_next_sibling()\n",
    "print(\"First package price:\", second_p)"
   ]
  },
  {
   "cell_type": "code",
   "execution_count": 2,
   "metadata": {},
   "outputs": [
    {
     "name": "stdout",
     "output_type": "stream",
     "text": [
      "First flight option: Flight 101 to Rome - $499\n",
      "First hotel option: Hotel Plaza - $99 per night\n"
     ]
    }
   ],
   "source": [
    "from bs4 import BeautifulSoup\n",
    "\n",
    "# Sample HTML content from a travel booking website\n",
    "html_content = \"\"\"\n",
    "<html>\n",
    "  <body>\n",
    "    <div class=\"flights\">\n",
    "      <h1>Flight Options</h1>\n",
    "      <ul>\n",
    "        <li class=\"flight\" id=\"flight1\">Flight 101 to Rome - $499</li>\n",
    "        <li class=\"flight\" id=\"flight2\">Flight 202 to Paris - $599</li>\n",
    "      </ul>\n",
    "    </div>\n",
    "    <div class=\"hotels\">\n",
    "      <h2>Hotel Listings</h2>\n",
    "      <ul>\n",
    "        <li class=\"hotel\" id=\"hotel1\">Hotel Plaza - $99 per night</li>\n",
    "        <li class=\"hotel\" id=\"hotel2\">Grand Hotel - $199 per night</li>\n",
    "      </ul>\n",
    "    </div>\n",
    "    <div class=\"reviews\">\n",
    "      <h3>Customer Reviews</h3>\n",
    "      <p id=\"review1\">Great experience on Flight 101!</p>\n",
    "      <p id=\"review2\">Highly recommend Hotel Plaza for the price.</p>\n",
    "    </div>\n",
    "  </body>\n",
    "</html>\n",
    "\"\"\"\n",
    "\n",
    "# Create a BeautifulSoup object\n",
    "soup = BeautifulSoup(html_content, 'html.parser')\n",
    "\n",
    "# Locate the flights div and then find the first flight option within it\n",
    "flights_div = soup.find('div', class_='flights')\n",
    "first_flight = flights_div.find('li', class_='flight').text\n",
    "print(f\"First flight option: {first_flight}\")\n",
    "\n",
    "# Navigate to the sibling element of the flights div, i.e., the hotels div, and find the first hotel option\n",
    "hotels_div = flights_div.find_next_sibling('div', class_='hotels')\n",
    "first_hotel = hotels_div.find('li', class_='hotel').text\n",
    "print(f\"First hotel option: {first_hotel}\")"
   ]
  },
  {
   "cell_type": "code",
   "execution_count": 3,
   "metadata": {},
   "outputs": [
    {
     "name": "stdout",
     "output_type": "stream",
     "text": [
      "Parent of <ul> element: div\n",
      "Eiffel Tower Tour\n",
      "Louvre Museum Pass\n",
      "Seine River Cruise\n"
     ]
    }
   ],
   "source": [
    "from bs4 import BeautifulSoup\n",
    "\n",
    "# Mock HTML snippet of a travel booking website\n",
    "html_content = \"\"\"\n",
    "<div id='destination'>\n",
    "    <h1>Paris</h1>\n",
    "    <ul class='offers'>\n",
    "        <li class='package'>Eiffel Tower Tour</li>\n",
    "        <li class='package'>Louvre Museum Pass</li>\n",
    "        <li class='package'>Seine River Cruise</li>\n",
    "    </ul>\n",
    "</div>\n",
    "\"\"\"\n",
    "\n",
    "soup = BeautifulSoup(html_content, 'html.parser')\n",
    "offers_list = soup.find('ul', class_='offers')\n",
    "print(\"Parent of <ul> element:\", offers_list.parent.name)\n",
    "\n",
    "# Iterate through children of offers_list and print text of each 'li' element\n",
    "for item in offers_list.children:\n",
    "  if isinstance(item, str):\n",
    "    continue  # Skip any string elements (text between tags)\n",
    "  if item.name == 'li':\n",
    "    print(item.text.strip())\n",
    "\n"
   ]
  },
  {
   "cell_type": "code",
   "execution_count": 4,
   "metadata": {},
   "outputs": [
    {
     "name": "stdout",
     "output_type": "stream",
     "text": [
      "Cost: $200\n",
      "div\n"
     ]
    }
   ],
   "source": [
    "from bs4 import BeautifulSoup\n",
    "\n",
    "# Assume this is the HTML from a section of a travel booking website\n",
    "html_content = '''\n",
    "<html>\n",
    "  <body>\n",
    "    <div class=\"destination\">\n",
    "      <h2 class=\"name\">Sunny Beach</h2>\n",
    "      <p class=\"description\">A beautiful beach, perfect for family vacations.</p>\n",
    "      <p class=\"price\">Cost: $200</p>\n",
    "    </div>\n",
    "  </body>\n",
    "</html>'''\n",
    "\n",
    "# Create a BeautifulSoup object\n",
    "soup = BeautifulSoup(html_content, 'html.parser')\n",
    "\n",
    "# Find the 'p' tag with class 'price'\n",
    "price_tag = soup.find('p', class_='price')\n",
    "\n",
    "# Print the text content of the found 'p' tag\n",
    "print(price_tag.text)  # Output: Cost: $200\n",
    "\n",
    "# Print the parent tag of the p tag\n",
    "print(price_tag.parent.name)  # Output: div\n"
   ]
  },
  {
   "cell_type": "code",
   "execution_count": 1,
   "metadata": {},
   "outputs": [
    {
     "name": "stdout",
     "output_type": "stream",
     "text": [
      "Travel Agency Heading: Welcome to the Amazing Travel Agency!\n"
     ]
    }
   ],
   "source": [
    "from bs4 import BeautifulSoup\n",
    "\n",
    "# Simplified HTML content from a travel agency website\n",
    "html_content = '<div><h1>Welcome to the Amazing Travel Agency!</h1><p>Plan your next adventure with us.</p></div>'\n",
    "soup = BeautifulSoup(html_content, 'html.parser')\n",
    "\n",
    "# Find the heading (h1) of the Travel Agency website\n",
    "heading = soup.find('h1').text\n",
    "print(f\"Travel Agency Heading: {heading}\")"
   ]
  },
  {
   "cell_type": "code",
   "execution_count": 2,
   "metadata": {},
   "outputs": [
    {
     "name": "stdout",
     "output_type": "stream",
     "text": [
      "Agency Name: Explore the world with us.\n"
     ]
    }
   ],
   "source": [
    "from bs4 import BeautifulSoup\n",
    "\n",
    "# Simulate an HTML content from a Travel Agency website\n",
    "html_content = '<div><h1>Welcome to the Best Travel Agency!</h1><p>Explore the world with us.</p></div>'\n",
    "soup = BeautifulSoup(html_content, 'html.parser')\n",
    "\n",
    "# TODO: Print the introductory message found in the first paragraph `<p>` tag\n",
    "agency_name = soup.find('p').text\n",
    "\n",
    "# TODO: Remember to update the print message to 'Intro Message:' \n",
    "print(f\"Agency Name: {agency_name}\") "
   ]
  },
  {
   "cell_type": "code",
   "execution_count": null,
   "metadata": {},
   "outputs": [],
   "source": [
    "import requests\n",
    "url = 'http://quotes.toscrape.com'\n",
    "response = requests.get(url)\n",
    "if response.ok:\n",
    "    print(response.text[:500])"
   ]
  },
  {
   "cell_type": "markdown",
   "metadata": {},
   "source": [
    "#CSS selectors\n"
   ]
  },
  {
   "cell_type": "code",
   "execution_count": 1,
   "metadata": {},
   "outputs": [
    {
     "name": "stdout",
     "output_type": "stream",
     "text": [
      "Smartphone\n",
      "Laptop\n"
     ]
    }
   ],
   "source": [
    "from bs4 import BeautifulSoup\n",
    "\n",
    "# HTML snippet for an online shopping site with various product categories\n",
    "html_content = \"<div class='category-listing'><div class='electronics'><div class='product'>Smartphone</div><div class='product'>Laptop</div></div><div class='books'><div class='product'>Novel</div><div class='product'>Comics</div></div></div>\"\n",
    "soup = BeautifulSoup(html_content, 'html.parser')\n",
    "\n",
    "# Using CSS selector to find all product elements within the 'electronics' category\n",
    "electronics_products = soup.select(\".category-listing > .electronics > .product\")\n",
    "for product in electronics_products:\n",
    "    print(product.text)"
   ]
  },
  {
   "cell_type": "code",
   "execution_count": 2,
   "metadata": {},
   "outputs": [
    {
     "name": "stdout",
     "output_type": "stream",
     "text": [
      "Laptop\n",
      "Phone\n",
      "Tablet\n"
     ]
    }
   ],
   "source": [
    "from bs4 import BeautifulSoup\n",
    "\n",
    "# Simulated HTML content of an online shopping site's inventory\n",
    "html_inventory = '''\n",
    "<div id=\"inventory\">\n",
    "  <div class=\"product\"><span class=\"name\">Laptop</span> - <span class=\"price\">$999</span></div>\n",
    "  <div class=\"product\"><span class=\"name\">Phone</span> - <span class=\"price\">$499</span></div>\n",
    "  <div class=\"product\"><span class=\"name\">Tablet</span> - <span class=\"price\">$299</span></div>\n",
    "</div>\n",
    "'''\n",
    "soup = BeautifulSoup(html_inventory, 'html.parser')\n",
    "\n",
    "# Select the price for each product\n",
    "prices = soup.select('.product > .name')\n",
    "for price in prices:\n",
    "    print(price.text)"
   ]
  },
  {
   "cell_type": "code",
   "execution_count": 3,
   "metadata": {},
   "outputs": [
    {
     "name": "stdout",
     "output_type": "stream",
     "text": [
      "['Widget A', 'Widget B', 'Subproduct C - 1']\n"
     ]
    }
   ],
   "source": [
    "from bs4 import BeautifulSoup\n",
    "\n",
    "html_content = '''\n",
    "<div class=\"inventory\">\n",
    "    <span class=\"product\">Widget A</span>\n",
    "    <span class=\"product\">Widget B</span>\n",
    "    <span class=\"tool\">\n",
    "        <span class=\"product\">Subproduct C - 1</span>\n",
    "    </span>\n",
    "</div>'''\n",
    "\n",
    "soup = BeautifulSoup(html_content, 'html.parser')\n",
    "products = [item.text for item in soup.select('.product')]\n",
    "print(products)"
   ]
  },
  {
   "cell_type": "code",
   "execution_count": 4,
   "metadata": {},
   "outputs": [
    {
     "name": "stdout",
     "output_type": "stream",
     "text": [
      "Item 1\n",
      "Item 2\n"
     ]
    }
   ],
   "source": [
    "from bs4 import BeautifulSoup\n",
    "\n",
    "# HTML content for an online shopping site products inventory\n",
    "html_content = '<div class=\"inventory\"><div class=\"item\"><p>Item 1</p></div><div class=\"item\"><p>Item 2</p></div></div>'\n",
    "\n",
    "# Create a BeautifulSoup object\n",
    "soup = BeautifulSoup(html_content, 'html.parser')\n",
    "\n",
    "# Find all paragraphs within divs classed as 'item' within divs classified as 'inventory'\n",
    "items = soup.select('.inventory .item p')\n",
    "\n",
    "# Print the text content of each item\n",
    "for item in items:\n",
    "    print(item.text)\n"
   ]
  }
 ],
 "metadata": {
  "kernelspec": {
   "display_name": "pytorch",
   "language": "python",
   "name": "python3"
  },
  "language_info": {
   "codemirror_mode": {
    "name": "ipython",
    "version": 3
   },
   "file_extension": ".py",
   "mimetype": "text/x-python",
   "name": "python",
   "nbconvert_exporter": "python",
   "pygments_lexer": "ipython3",
   "version": "3.11.7"
  }
 },
 "nbformat": 4,
 "nbformat_minor": 2
}
