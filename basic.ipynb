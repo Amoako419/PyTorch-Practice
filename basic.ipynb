{
 "cells": [
  {
   "cell_type": "code",
   "execution_count": 1,
   "metadata": {},
   "outputs": [
    {
     "name": "stdout",
     "output_type": "stream",
     "text": [
      "Shape of tensor: torch.Size([2, 3])\n",
      "Data type of tensor: torch.int64\n",
      "tensor([[1, 2, 3],\n",
      "        [4, 5, 6]])\n"
     ]
    }
   ],
   "source": [
    "import torch\n",
    "\n",
    "# Creating a tensor\n",
    "tensor_example = torch.tensor([[1, 2, 3], [4, 5, 6]])\n",
    "\n",
    "# Displaying basic properties of tensors\n",
    "print(f\"Shape of tensor: {tensor_example.shape}\")\n",
    "print(f\"Data type of tensor: {tensor_example.dtype}\")\n",
    "print(tensor_example)"
   ]
  },
  {
   "cell_type": "code",
   "execution_count": 2,
   "metadata": {},
   "outputs": [
    {
     "name": "stdout",
     "output_type": "stream",
     "text": [
      "Shape of tensor: torch.Size([3, 3])\n",
      "Data type of tensor: torch.int64\n",
      "tensor([[1, 2, 3],\n",
      "        [4, 5, 6],\n",
      "        [8, 9, 0]])\n"
     ]
    }
   ],
   "source": [
    "import torch\n",
    "\n",
    "# Tensor to be modified\n",
    "tensor_example = torch.tensor([[1, 2, 3], [4, 5, 6],[8,9,0]])\n",
    "\n",
    "# Displaying basic properties of tensors\n",
    "print(f\"Shape of tensor: {tensor_example.shape}\")\n",
    "print(f\"Data type of tensor: {tensor_example.dtype}\")\n",
    "print(tensor_example)"
   ]
  },
  {
   "cell_type": "code",
   "execution_count": 1,
   "metadata": {},
   "outputs": [
    {
     "name": "stdout",
     "output_type": "stream",
     "text": [
      "Tensor Addition:\n",
      "tensor([[ 6,  8],\n",
      "        [10, 12]], dtype=torch.int32)\n",
      "\n",
      "Element-wise Multiplication:\n",
      "tensor([[ 5, 12],\n",
      "        [21, 32]], dtype=torch.int32)\n",
      "\n",
      "Matrix Multiplication:\n",
      "tensor([[ 5],\n",
      "        [11]], dtype=torch.int32)\n",
      "\n",
      "Broadcasted Addition (Adding scalar value):\n",
      "tensor([[6, 7],\n",
      "        [8, 9]], dtype=torch.int32)\n",
      "\n",
      "Broadcasted Addition: \n",
      "tensor([[2, 3],\n",
      "        [5, 6]], dtype=torch.int32)\n",
      "\n",
      "Broadcasted Multiplication: \n",
      "tensor([[1, 2],\n",
      "        [6, 8]], dtype=torch.int32)\n",
      "\n"
     ]
    }
   ],
   "source": [
    "import torch\n",
    "\n",
    "# Creating three tensors\n",
    "tensor_a = torch.tensor([[1, 2], [3, 4]], dtype=torch.int32) # 2x2 tensor\n",
    "tensor_b = torch.tensor([[5, 6], [7, 8]], dtype=torch.int32) # 2x2 tensor\n",
    "tensor_c = torch.tensor([[1], [2]], dtype=torch.int32) # 2x1 tensor\n",
    "\n",
    "# Addition\n",
    "tensor_sum = torch.add(tensor_a, tensor_b)\n",
    "print(f\"Tensor Addition:\\n{tensor_sum}\\n\")\n",
    "\n",
    "# Element-wise Multiplication\n",
    "tensor_product = torch.mul(tensor_a, tensor_b)\n",
    "print(f\"Element-wise Multiplication:\\n{tensor_product}\\n\")\n",
    "\n",
    "# Matrix Multiplication \n",
    "tensor_matmul = torch.matmul(tensor_a, tensor_c)\n",
    "print(f\"Matrix Multiplication:\\n{tensor_matmul}\\n\")\n",
    "\n",
    "# Broadcasted Addition (Tensor + scalar)\n",
    "tensor_add_scalar = tensor_a + 5\n",
    "print(f\"Broadcasted Addition (Adding scalar value):\\n{tensor_add_scalar}\\n\")\n",
    "\n",
    "# Broadcasted Addition between tensors of different shapes: \n",
    "broadcasted_sum = tensor_a + tensor_c\n",
    "print(f\"Broadcasted Addition: \\n{broadcasted_sum}\\n\")\n",
    "\n",
    "# Broadcasted Multiplication between tensors of different shapes:\n",
    "broadcasted_mul = tensor_a * tensor_c\n",
    "print(f\"Broadcasted Multiplication: \\n{broadcasted_mul}\\n\")"
   ]
  },
  {
   "cell_type": "code",
   "execution_count": 1,
   "metadata": {},
   "outputs": [
    {
     "name": "stdout",
     "output_type": "stream",
     "text": [
      "Combined Power:\n",
      "tensor([[ 9, 11],\n",
      "        [13, 15]], dtype=torch.int32)\n",
      "\n",
      "Power Product:\n",
      "tensor([[14, 24],\n",
      "        [36, 50]], dtype=torch.int32)\n",
      "\n",
      "Team Effectiveness:\n",
      "tensor([[13],\n",
      "        [23]], dtype=torch.int32)\n",
      "\n",
      "Broadcasted Addition (Adding scalar value):\n",
      "tensor([[ 7,  8],\n",
      "        [ 9, 10]], dtype=torch.int32)\n",
      "\n",
      "Broadcasted Addition: \n",
      "tensor([[ 9, 10],\n",
      "        [12, 13]], dtype=torch.int32)\n",
      "\n",
      "Broadcasted Multiplication: \n",
      "tensor([[ 4,  6],\n",
      "        [12, 15]], dtype=torch.int32)\n",
      "\n"
     ]
    }
   ],
   "source": [
    "import torch\n",
    "\n",
    "# Creating three tensors\n",
    "heroes = torch.tensor([[2, 3], [4, 5]], dtype=torch.int32) # 2x2 tensor\n",
    "villains = torch.tensor([[7, 8], [9, 10]], dtype=torch.int32) # 2x2 tensor\n",
    "sidekicks = torch.tensor([[2], [3]], dtype=torch.int32) # 2x1 tensor\n",
    "\n",
    "# Addition\n",
    "combined_power = torch.add(heroes, villains)\n",
    "print(f\"Combined Power:\\n{combined_power}\\n\")\n",
    "\n",
    "# Element-wise Multiplication\n",
    "power_product = torch.mul(heroes, villains)\n",
    "print(f\"Power Product:\\n{power_product}\\n\")\n",
    "\n",
    "# Matrix Multiplication \n",
    "team_effectiveness = torch.matmul(heroes, sidekicks)\n",
    "print(f\"Team Effectiveness:\\n{team_effectiveness}\\n\")\n",
    "\n",
    "# TODO: Add code for broadcasted addition (tensor + scalar)\n",
    "tensor_add_scalar = heroes + 5\n",
    "print(f\"Broadcasted Addition (Adding scalar value):\\n{tensor_add_scalar}\\n\")\n",
    "# TODO: Add code for broadcasted addition between tensors of different shapes (heroes + sidekicks)\n",
    "broadcasted_sum = villains + sidekicks\n",
    "print(f\"Broadcasted Addition: \\n{broadcasted_sum}\\n\")\n",
    "# TODO: Add code for broadcasted multiplication between tensors of different shapes (heroes * sidekicks)\n",
    "broadcasted_mul = heroes * sidekicks\n",
    "print(f\"Broadcasted Multiplication: \\n{broadcasted_mul}\\n\")"
   ]
  },
  {
   "cell_type": "code",
   "execution_count": 2,
   "metadata": {},
   "outputs": [
    {
     "name": "stdout",
     "output_type": "stream",
     "text": [
      "Original Tensor:\n",
      "tensor([[1, 2, 3],\n",
      "        [4, 5, 6]])\n",
      "\n",
      "Reshaped Tensor:\n",
      "tensor([[1, 2],\n",
      "        [3, 4],\n",
      "        [5, 6]])\n",
      "\n",
      "Flattened Tensor:\n",
      "tensor([1, 2, 3, 4, 5, 6])\n"
     ]
    }
   ],
   "source": [
    "import torch\n",
    "\n",
    "# Creating a tensor for manipulation\n",
    "tensor_a = torch.tensor([[1, 2, 3], [4, 5, 6]])\n",
    "\n",
    "# Reshape the tensor\n",
    "reshaped_tensor = tensor_a.view(3, 2)\n",
    "\n",
    "# Flatten the tensor\n",
    "flattened_tensor = tensor_a.view(-1)\n",
    "\n",
    "print(f\"Original Tensor:\\n{tensor_a}\\n\")\n",
    "print(f\"Reshaped Tensor:\\n{reshaped_tensor}\\n\")\n",
    "print(f\"Flattened Tensor:\\n{flattened_tensor}\")"
   ]
  },
  {
   "cell_type": "code",
   "execution_count": 3,
   "metadata": {},
   "outputs": [
    {
     "name": "stdout",
     "output_type": "stream",
     "text": [
      "Original Tensor: \n",
      "tensor([[ 1,  2,  3,  4],\n",
      "        [ 5,  6,  7,  8],\n",
      "        [ 9, 10, 11, 12],\n",
      "        [13, 14, 15, 16]])\n",
      "\n",
      "Reshaped Tensor: \n",
      "tensor([[ 1,  2],\n",
      "        [ 3,  4],\n",
      "        [ 5,  6],\n",
      "        [ 7,  8],\n",
      "        [ 9, 10],\n",
      "        [11, 12],\n",
      "        [13, 14],\n",
      "        [15, 16]])\n"
     ]
    }
   ],
   "source": [
    "import torch\n",
    "\n",
    "# Creating a tensor for manipulation\n",
    "tensor_example = torch.tensor([[1, 2, 3, 4], \n",
    "                               [5, 6, 7, 8], \n",
    "                               [9, 10, 11, 12], \n",
    "                               [13, 14, 15, 16]])\n",
    "\n",
    "# TODO: Reshape the tensor into an 8x2 tensor\n",
    "reshaped_tensor = tensor_example.view(8, 2)\n",
    "\n",
    "# Displaying the original and reshaped tensors\n",
    "print(f\"Original Tensor: \\n{tensor_example}\\n\")\n",
    "print(f\"Reshaped Tensor: \\n{reshaped_tensor}\")"
   ]
  },
  {
   "cell_type": "code",
   "execution_count": 4,
   "metadata": {},
   "outputs": [
    {
     "name": "stdout",
     "output_type": "stream",
     "text": [
      "Original Tensor:\n",
      "tensor([[1, 2, 3],\n",
      "        [4, 5, 6]])\n",
      "\n",
      "Reshaped Tensor:\n",
      "tensor([[1, 2],\n",
      "        [3, 4],\n",
      "        [5, 6]])\n",
      "\n",
      "Flattened Tensor:\n",
      "tensor([1, 2, 3, 4, 5, 6])\n"
     ]
    }
   ],
   "source": [
    "import torch\n",
    "\n",
    "# Creating a tensor for manipulation\n",
    "tensor_a = torch.tensor([[1, 2, 3], [4, 5, 6]])\n",
    "\n",
    "# Reshape the tensor\n",
    "reshaped_tensor = tensor_a.view(3, 2)\n",
    "\n",
    "# TODO: Flatten the tensor\n",
    "flattened_tensor = tensor_a.view(-1)\n",
    "\n",
    "print(f\"Original Tensor:\\n{tensor_a}\\n\")\n",
    "print(f\"Reshaped Tensor:\\n{reshaped_tensor}\\n\")\n",
    "print(f\"Flattened Tensor:\\n{flattened_tensor}\")"
   ]
  },
  {
   "cell_type": "code",
   "execution_count": 5,
   "metadata": {},
   "outputs": [
    {
     "name": "stdout",
     "output_type": "stream",
     "text": [
      "Batch X:\n",
      "tensor([[4., 3.],\n",
      "        [2., 1.]])\n",
      "Batch y:\n",
      "tensor([1, 1], dtype=torch.int32)\n",
      "\n",
      "Batch X:\n",
      "tensor([[3., 4.],\n",
      "        [1., 2.]])\n",
      "Batch y:\n",
      "tensor([0, 0], dtype=torch.int32)\n",
      "\n"
     ]
    }
   ],
   "source": [
    "import numpy as np\n",
    "import torch\n",
    "from torch.utils.data import DataLoader, TensorDataset\n",
    "\n",
    "# Define a simple array as input data\n",
    "X = np.array([[1.0, 2.0], [2.0, 1.0], [3.0, 4.0], [4.0, 3.0]])\n",
    "# Define the target outputs for our dataset\n",
    "y = np.array([0, 1, 0, 1])\n",
    "\n",
    "# Convert X and y into PyTorch tensors\n",
    "X_tensor = torch.tensor(X, dtype=torch.float32)\n",
    "y_tensor = torch.tensor(y, dtype=torch.int32)\n",
    "\n",
    "# Create a tensor dataset and data loader\n",
    "dataset = TensorDataset(X_tensor, y_tensor)\n",
    "dataloader = DataLoader(dataset, batch_size=2, shuffle=True)\n",
    "\n",
    "# Iterate through the dataloader\n",
    "for batch_X, batch_y in dataloader:\n",
    "    print(f\"Batch X:\\n{batch_X}\")\n",
    "    print(f\"Batch y:\\n{batch_y}\\n\")"
   ]
  },
  {
   "cell_type": "code",
   "execution_count": 6,
   "metadata": {},
   "outputs": [
    {
     "name": "stdout",
     "output_type": "stream",
     "text": [
      "Batch Powers:\n",
      "tensor([[3., 6.],\n",
      "        [5., 3.],\n",
      "        [2., 4.]])\n",
      "Batch Labels:\n",
      "tensor([1, 0, 1], dtype=torch.int32)\n",
      "\n",
      "Batch Powers:\n",
      "tensor([[1., 2.]])\n",
      "Batch Labels:\n",
      "tensor([0], dtype=torch.int32)\n",
      "\n"
     ]
    }
   ],
   "source": [
    "import numpy as np\n",
    "import torch\n",
    "from torch.utils.data import DataLoader, TensorDataset\n",
    "\n",
    "# Define a simple array as input data for superhero powers\n",
    "Powers = np.array([[5.0, 3.0], [2.0, 4.0], [1.0, 2.0], [3.0, 6.0]])\n",
    "# Define the target outputs representing hero or villain\n",
    "labels = np.array([0, 1, 0, 1])\n",
    "\n",
    "# Convert Powers and labels into PyTorch tensors\n",
    "Powers_tensor = torch.tensor(Powers, dtype=torch.float32)\n",
    "labels_tensor = torch.tensor(labels, dtype=torch.int32)\n",
    "\n",
    "# Create a tensor dataset and data loader\n",
    "dataset = TensorDataset(Powers_tensor, labels_tensor)\n",
    "dataloader = DataLoader(dataset, batch_size=3, shuffle=True)  # TODO: Change batch size to 3\n",
    "\n",
    "# Iterate through the dataloader\n",
    "for batch_Powers, batch_labels in dataloader:\n",
    "    print(f\"Batch Powers:\\n{batch_Powers}\")\n",
    "    print(f\"Batch Labels:\\n{batch_labels}\\n\")"
   ]
  },
  {
   "cell_type": "code",
   "execution_count": 7,
   "metadata": {},
   "outputs": [
    {
     "name": "stdout",
     "output_type": "stream",
     "text": [
      "Batch Powers:\n",
      "tensor([[3., 6.],\n",
      "        [5., 3.]])\n",
      "Batch Labels:\n",
      "tensor([1, 0], dtype=torch.int32)\n",
      "\n",
      "Batch Powers:\n",
      "tensor([[2., 4.],\n",
      "        [1., 2.]])\n",
      "Batch Labels:\n",
      "tensor([1, 0], dtype=torch.int32)\n",
      "\n"
     ]
    }
   ],
   "source": [
    "import numpy as np\n",
    "import torch\n",
    "from torch.utils.data import DataLoader, TensorDataset\n",
    "\n",
    "# Define a simple array as input data for superhero powers\n",
    "Powers = np.array([[5.0, 3.0], [2.0, 4.0], [1.0, 2.0], [3.0, 6.0]])\n",
    "# Define the target outputs representing hero or villain\n",
    "labels = np.array([0, 1, 0, 1])\n",
    "\n",
    "# Convert Powers and labels into PyTorch tensors\n",
    "Powers_tensor = torch.tensor(Powers, dtype=torch.float32)\n",
    "labels_tensor = torch.tensor(labels, dtype=torch.int32)\n",
    "\n",
    "# Create a tensor dataset and data loader\n",
    "dataset = TensorDataset(Powers_tensor, labels_tensor)\n",
    "dataloader = DataLoader(dataset, batch_size=2, shuffle=True)\n",
    "\n",
    "# Iterate through the dataloader\n",
    "for batch_Powers, batch_labels in dataloader:\n",
    "    print(f\"Batch Powers:\\n{batch_Powers}\")\n",
    "    print(f\"Batch Labels:\\n{batch_labels}\\n\")"
   ]
  },
  {
   "cell_type": "code",
   "execution_count": 1,
   "metadata": {},
   "outputs": [
    {
     "name": "stdout",
     "output_type": "stream",
     "text": [
      "Batch X:\n",
      "tensor([[3., 4.],\n",
      "        [2., 1.]])\n",
      "Batch y:\n",
      "tensor([0, 1], dtype=torch.int32)\n",
      "\n",
      "Batch X:\n",
      "tensor([[1., 2.],\n",
      "        [4., 3.]])\n",
      "Batch y:\n",
      "tensor([0, 1], dtype=torch.int32)\n",
      "\n"
     ]
    }
   ],
   "source": [
    "import numpy as np\n",
    "import torch\n",
    "from torch.utils.data import DataLoader, TensorDataset\n",
    "\n",
    "# Define a simple array as input data\n",
    "X = np.array([[1.0, 2.0], [2.0, 1.0], [3.0, 4.0], [4.0, 3.0]])\n",
    "# Define the target outputs for our dataset\n",
    "y = np.array([0, 1, 0, 1])\n",
    "\n",
    "# Convert X and y into PyTorch tensors\n",
    "X_tensor = torch.tensor(X, dtype=torch.float32)\n",
    "y_tensor = torch.tensor(y, dtype=torch.int32)\n",
    "\n",
    "# TODO: Create a tensor dataset from the tensors X_tensor and y_tensor\n",
    "dataset = TensorDataset(X_tensor,y_tensor)\n",
    "\n",
    "# TODO: Create a data loader from the dataset with batch_size 2 and shuffle enabled\n",
    "dataloader = DataLoader(dataset,batch_size=2,shuffle=True)\n",
    "\n",
    "# Iterate through the dataloader\n",
    "for batch_X, batch_y in dataloader:\n",
    "    print(f\"Batch X:\\n{batch_X}\")\n",
    "    print(f\"Batch y:\\n{batch_y}\\n\")"
   ]
  },
  {
   "cell_type": "code",
   "execution_count": 2,
   "metadata": {},
   "outputs": [
    {
     "name": "stdout",
     "output_type": "stream",
     "text": [
      "Input Tensor:\n",
      "tensor([[5., 6.]])\n",
      "\n",
      "Output Tensor Before Activation:\n",
      "tensor([[ 0.2411, -4.1630,  0.2912]], grad_fn=<AddmmBackward0>)\n",
      "\n",
      "Output Tensor After ReLU Activation:\n",
      "tensor([[0.2411, 0.0000, 0.2912]], grad_fn=<ReluBackward0>)\n",
      "\n",
      "Output Tensor After Sigmoid Activation:\n",
      "tensor([[0.5600, 0.0153, 0.5723]], grad_fn=<SigmoidBackward0>)\n"
     ]
    }
   ],
   "source": [
    "import torch\n",
    "import torch.nn as nn\n",
    "\n",
    "# Defining an input tensor\n",
    "input_tensor = torch.tensor([[5.0, 6.0]], dtype=torch.float32)\n",
    "\n",
    "# Creating a linear layer with 2 input features and 3 output features\n",
    "layer = nn.Linear(in_features=2, out_features=3)\n",
    "\n",
    "# Defining a ReLU activation function\n",
    "relu = nn.ReLU()\n",
    "\n",
    "# Defining a Sigmoid activation function\n",
    "sigmoid = nn.Sigmoid()\n",
    "\n",
    "# Processing the input through the linear layer \n",
    "output_tensor = layer(input_tensor)\n",
    "\n",
    "# Applying the ReLU function to the output of the linear layer\n",
    "activated_output_relu = relu(output_tensor)\n",
    "\n",
    "# Applying the Sigmoid function to the output of the linear layer\n",
    "activated_output_sigmoid = sigmoid(output_tensor)\n",
    "\n",
    "# Displaying the original input tensor\n",
    "print(f\"Input Tensor:\\n{input_tensor}\\n\")\n",
    "\n",
    "# Displaying the output before activation to see the linear transformation effect\n",
    "print(f\"Output Tensor Before Activation:\\n{output_tensor}\\n\")\n",
    "\n",
    "# Displaying the output after activation to observe the effect of ReLU\n",
    "print(f\"Output Tensor After ReLU Activation:\\n{activated_output_relu}\\n\")\n",
    "\n",
    "# Displaying the output after activation to observe the effect of Sigmoid\n",
    "print(f\"Output Tensor After Sigmoid Activation:\\n{activated_output_sigmoid}\")"
   ]
  },
  {
   "cell_type": "code",
   "execution_count": 4,
   "metadata": {},
   "outputs": [
    {
     "name": "stdout",
     "output_type": "stream",
     "text": [
      "Input Tensor:\n",
      "tensor([[1., 2., 3.]])\n",
      "\n",
      "Output Tensor Before Activation:\n",
      "tensor([[ 1.0678, -1.3507]], grad_fn=<AddmmBackward0>)\n",
      "\n",
      "Output Tensor After ReLU Activation:\n",
      "tensor([[1.0678, 0.0000]], grad_fn=<ReluBackward0>)\n",
      "\n",
      "Output Tensor After Sigmoid Activation:\n",
      "tensor([[0.7442, 0.2058]], grad_fn=<SigmoidBackward0>)\n"
     ]
    }
   ],
   "source": [
    "import torch\n",
    "import torch.nn as nn\n",
    "\n",
    "# TODO: Define an input tensor with one more value\n",
    "input_tensor = torch.tensor([[1.0, 2.0,3.0]], dtype=torch.float32)\n",
    "\n",
    "# TODO: Change the linear layer to have 3 input features and 2 output features\n",
    "layer = nn.Linear(in_features=3, out_features=2)\n",
    "\n",
    "# Define a ReLU activation function \n",
    "relu = nn.ReLU()\n",
    "\n",
    "# Define a Sigmoid activation function\n",
    "sigmoid = nn.Sigmoid()\n",
    "\n",
    "# Process the input through the linear layer to get initial output\n",
    "output_tensor = layer(input_tensor)\n",
    "\n",
    "# Apply the ReLU function to the output of the linear layer\n",
    "activated_output_relu = relu(output_tensor)\n",
    "\n",
    "# Apply the Sigmoid function to the output of the linear layer\n",
    "activated_output_sigmoid = sigmoid(output_tensor)\n",
    "\n",
    "# Display the original input tensor\n",
    "print(f\"Input Tensor:\\n{input_tensor}\\n\")\n",
    "\n",
    "# Display the output before activation to see the linear transformation effect\n",
    "print(f\"Output Tensor Before Activation:\\n{output_tensor}\\n\")\n",
    "\n",
    "# Display the output after activation to observe the effect of ReLU\n",
    "print(f\"Output Tensor After ReLU Activation:\\n{activated_output_relu}\\n\")\n",
    "\n",
    "# Display the output after activation to observe the effect of Sigmoid\n",
    "print(f\"Output Tensor After Sigmoid Activation:\\n{activated_output_sigmoid}\")"
   ]
  },
  {
   "cell_type": "code",
   "execution_count": 6,
   "metadata": {},
   "outputs": [
    {
     "name": "stdout",
     "output_type": "stream",
     "text": [
      "Input Tensor:\n",
      "tensor([[1., 2.]])\n",
      "\n",
      "Output Tensor Before Activation:\n",
      "tensor([[ 0.1368,  0.6893, -1.6813]], grad_fn=<AddmmBackward0>)\n",
      "\n",
      "Output Tensor After ReLU Activation:\n",
      "tensor([[0.1368, 0.6893, 0.0000]], grad_fn=<ReluBackward0>)\n",
      "\n",
      "Output Tensor After Sigmoid Activation:\n",
      "tensor([[0.5342, 0.6658, 0.1569]], grad_fn=<SigmoidBackward0>)\n"
     ]
    }
   ],
   "source": [
    "import torch\n",
    "import torch.nn as nn\n",
    "\n",
    "input_tensor = torch.tensor([[1.0, 2.0]], dtype=torch.float32)\n",
    "\n",
    "# Create linear layer with specified number of input and output features\n",
    "layer = nn.Linear(in_features=2, out_features=3)\n",
    "\n",
    "# Process the input tensor through the linear layer to get initial output\n",
    "output_tensor = layer(input_tensor)\n",
    "\n",
    "# TODO: Define a ReLU activation function\n",
    "relu = nn.ReLU()\n",
    "# TODO: Apply the ReLU function to the output tensor\n",
    "activated_output_relu = relu(output_tensor)\n",
    "# Define a Sigmoid activation function\n",
    "sigmoid = nn.Sigmoid()\n",
    "\n",
    "# Apply the Sigmoid function to the output tensor\n",
    "activated_output_sigmoid = sigmoid(output_tensor)\n",
    "\n",
    "print(f\"Input Tensor:\\n{input_tensor}\\n\")\n",
    "print(f\"Output Tensor Before Activation:\\n{output_tensor}\\n\")\n",
    "print(f\"Output Tensor After ReLU Activation:\\n{activated_output_relu}\\n\")\n",
    "print(f\"Output Tensor After Sigmoid Activation:\\n{activated_output_sigmoid}\")"
   ]
  },
  {
   "cell_type": "code",
   "execution_count": 9,
   "metadata": {},
   "outputs": [
    {
     "name": "stdout",
     "output_type": "stream",
     "text": [
      "tensor([[7.5000, 3.0000, 9.9000]])\n",
      "tensor([[ 4.2580, -8.2141,  6.2887, -5.1831]], grad_fn=<AddmmBackward0>)\n",
      "tensor([[4.2580, 0.0000, 6.2887, 0.0000]], grad_fn=<ReluBackward0>)\n",
      "tensor([[9.8605e-01, 2.7073e-04, 9.9815e-01, 5.5794e-03]],\n",
      "       grad_fn=<SigmoidBackward0>)\n"
     ]
    }
   ],
   "source": [
    "import torch\n",
    "import torch.nn as nn\n",
    "\n",
    "# Define an input tensor with specific values\n",
    "input_tensor = torch.tensor([[7.5, 3.0, 9.9]], dtype=torch.float32) \n",
    "\n",
    "# TODO: Create a linear layer with 3 input features and 4 output features\n",
    "layer = nn.Linear(in_features=3,out_features=4)\n",
    "# TODO: Define a ReLU activation function \n",
    "relu = nn.ReLU()\n",
    "# TODO: Define a Sigmoid activation function\n",
    "sigmoid = nn.Sigmoid()\n",
    "# TODO: Process the input through the linear layer to get initial output\n",
    "output_tensor = layer(input_tensor)\n",
    "# TODO: Apply the ReLU function to the output of the linear layer\n",
    "activated_output_relu = relu(output_tensor)\n",
    "# TODO: Apply the Sigmoid function to the output of the linear layer\n",
    "activated_output_sigmoid = sigmoid(output_tensor)\n",
    "# TODO: Display the original input tensor\n",
    "print(input_tensor)\n",
    "# TODO: Display the output before activation to see the linear transformation effect\n",
    "print(output_tensor)\n",
    "# TODO: Display the output after activation to observe the effect of ReLU\n",
    "print(activated_output_relu)\n",
    "# TODO: Display the output after activation to observe the effect of Sigmoid\n",
    "print(activated_output_sigmoid)"
   ]
  }
 ],
 "metadata": {
  "kernelspec": {
   "display_name": "pytorch",
   "language": "python",
   "name": "python3"
  },
  "language_info": {
   "codemirror_mode": {
    "name": "ipython",
    "version": 3
   },
   "file_extension": ".py",
   "mimetype": "text/x-python",
   "name": "python",
   "nbconvert_exporter": "python",
   "pygments_lexer": "ipython3",
   "version": "3.11.7"
  }
 },
 "nbformat": 4,
 "nbformat_minor": 2
}
