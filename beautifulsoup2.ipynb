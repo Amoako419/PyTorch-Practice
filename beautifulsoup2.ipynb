{
 "cells": [
  {
   "cell_type": "code",
   "execution_count": 1,
   "metadata": {},
   "outputs": [
    {
     "name": "stdout",
     "output_type": "stream",
     "text": [
      "Quote:  No quote found\n",
      "Tag:  change\n",
      "Tag:  deep-thoughts\n",
      "Tag:  thinking\n",
      "Tag:  world\n",
      "Quote:  No quote found\n",
      "Tag:  abilities\n",
      "Tag:  choices\n",
      "Quote:  No quote found\n",
      "Tag:  inspirational\n",
      "Tag:  life\n",
      "Tag:  live\n",
      "Tag:  miracle\n",
      "Tag:  miracles\n",
      "Quote:  No quote found\n",
      "Tag:  aliteracy\n",
      "Tag:  books\n",
      "Tag:  classic\n",
      "Tag:  humor\n",
      "Quote:  No quote found\n",
      "Tag:  be-yourself\n",
      "Tag:  inspirational\n",
      "Quote:  No quote found\n",
      "Tag:  adulthood\n",
      "Tag:  success\n",
      "Tag:  value\n",
      "Quote:  No quote found\n",
      "Tag:  life\n",
      "Tag:  love\n",
      "Quote:  No quote found\n",
      "Tag:  edison\n",
      "Tag:  failure\n",
      "Tag:  inspirational\n",
      "Tag:  paraphrased\n",
      "Quote:  No quote found\n",
      "Tag:  misattributed-eleanor-roosevelt\n",
      "Quote:  No quote found\n",
      "Tag:  humor\n",
      "Tag:  obvious\n",
      "Tag:  simile\n"
     ]
    }
   ],
   "source": [
    "import requests\n",
    "from bs4 import BeautifulSoup\n",
    "\n",
    "url = 'http://quotes.toscrape.com/tableful'\n",
    "response = requests.get(url)\n",
    "soup = BeautifulSoup(response.text, 'html.parser')\n",
    "\n",
    "quotes = soup.find(\"table\")\n",
    "rows = quotes.find_all(\"tr\")[1:-1]  # Get all rows except the first and last\n",
    "\n",
    "for i in range(0, len(rows), 2):\n",
    "    # Extract quote row - first row in the pair\n",
    "    quote_row = rows[i]\n",
    "    quote_cell = quote_row.find(\"td\", class_=\"quote\")\n",
    "\n",
    "    # Check if quote cell exists\n",
    "    if quote_cell:\n",
    "        quote = quote_cell.text.strip()\n",
    "    else:\n",
    "        quote = \"No quote found\"\n",
    "\n",
    "    # Extract tags row - second row in the pair using sibling\n",
    "    tags_row = quote_row.find_next_sibling(\"tr\")\n",
    "\n",
    "    # Extract all tags (anchor elements) from the tags row\n",
    "    tags = []\n",
    "    if tags_row:\n",
    "        tags = tags_row.find_all(\"a\")\n",
    "\n",
    "    print(\"Quote: \", quote)\n",
    "    for tag in tags:\n",
    "        print(\"Tag: \", tag.text.strip())"
   ]
  },
  {
   "cell_type": "code",
   "execution_count": 2,
   "metadata": {},
   "outputs": [
    {
     "ename": "SyntaxError",
     "evalue": "invalid syntax (2268177065.py, line 22)",
     "output_type": "error",
     "traceback": [
      "\u001b[0;36m  Cell \u001b[0;32mIn[2], line 22\u001b[0;36m\u001b[0m\n\u001b[0;31m    tags = [tag.text.strip() for tag in tags_row.find_all(\"a\") if tags_row else []]\u001b[0m\n\u001b[0m                                                                           ^\u001b[0m\n\u001b[0;31mSyntaxError\u001b[0m\u001b[0;31m:\u001b[0m invalid syntax\n"
     ]
    }
   ],
   "source": [
    "import requests\n",
    "from bs4 import BeautifulSoup\n",
    "\n",
    "url = 'http://quotes.toscrape.com/tableful'\n",
    "response = requests.get(url)\n",
    "soup = BeautifulSoup(response.text, 'html.parser')\n",
    "\n",
    "# Locate table and extract rows (excluding header and footer)\n",
    "table = soup.find(\"table\")\n",
    "rows = table.find_all(\"tr\")[1:-1]  # Get all rows except the first and last\n",
    "\n",
    "# Loop through rows to extract quote text and tags\n",
    "for i in range(0, len(rows), 2):\n",
    "    # Extract quote row - first row in the pair\n",
    "    quote_row = rows[i]\n",
    "    quote = quote_row.find(\"td\", class_=\"quote\").text.strip()  # Find quote cell, extract text with stripping\n",
    "\n",
    "    # Extract tags row - second row in the pair using sibling\n",
    "    tags_row = quote_row.find_next_sibling(\"tr\")\n",
    "\n",
    "    # Extract all tags (anchor elements) from the tags row (handle no tags case)\n",
    "    tags = [tag.text.strip() for tag in tags_row.find_all(\"a\") if tags_row else []]\n",
    "\n",
    "    # Print extracted data\n",
    "    print(\"Quote: \", quote)\n",
    "    for tag in tags:\n",
    "        print(\"Tag: \", tag)"
   ]
  }
 ],
 "metadata": {
  "kernelspec": {
   "display_name": "pytorch",
   "language": "python",
   "name": "python3"
  },
  "language_info": {
   "codemirror_mode": {
    "name": "ipython",
    "version": 3
   },
   "file_extension": ".py",
   "mimetype": "text/x-python",
   "name": "python",
   "nbconvert_exporter": "python",
   "pygments_lexer": "ipython3",
   "version": "3.11.7"
  }
 },
 "nbformat": 4,
 "nbformat_minor": 2
}
